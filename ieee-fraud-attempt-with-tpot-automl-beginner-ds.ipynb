{
 "cells": [
  {
   "cell_type": "markdown",
   "metadata": {},
   "source": [
    "# About this Kernel\n",
    "This is my first attempt to publish a kernel in Kaggle. I will try TPOT AutoML  on this IEEE Fraud transaction dataset. Primary goal for me is to work on a dataset that has combination of features (numbers, categorical, datetime) and the features are not explanatory, so i could experiment with pre-processing & Feature engineering concepts\n",
    "\n",
    "\n",
    "## Credits\n",
    "Thanks to kernels submitted by xhulu & makalesta2. I have used some of their concepts in this Kernel\n",
    "https://www.kaggle.com/xhlulu/ieee-fraud-efficient-grid-search-with-xgboost\n",
    "https://www.kaggle.com/makalesta2/fraud-detection-randomforest"
   ]
  },
  {
   "cell_type": "code",
   "execution_count": 1,
   "metadata": {
    "_cell_guid": "b1076dfc-b9ad-4769-8c92-a6c4dae69d19",
    "_uuid": "8f2839f25d086af736a60e9eeb907d3b93b6e0e5"
   },
   "outputs": [],
   "source": [
    "import os\n",
    "import gc\n",
    "import itertools\n",
    "\n",
    "import numpy as np\n",
    "import pandas as pd\n",
    "from sklearn import preprocessing\n",
    "from sklearn.metrics import roc_auc_score\n"
   ]
  },
  {
   "cell_type": "markdown",
   "metadata": {},
   "source": [
    "# Basic Preprocessing"
   ]
  },
  {
   "cell_type": "code",
   "execution_count": 2,
   "metadata": {},
   "outputs": [
    {
     "name": "stdout",
     "output_type": "stream",
     "text": [
      "(590540, 433)\n",
      "(506691, 432)\n",
      "CPU times: user 54.1 s, sys: 5.9 s, total: 1min\n",
      "Wall time: 1min\n"
     ]
    }
   ],
   "source": [
    "%%time\n",
    "train_transaction = pd.read_csv('../input/train_transaction.csv', index_col='TransactionID')\n",
    "test_transaction = pd.read_csv('../input/test_transaction.csv', index_col='TransactionID')\n",
    "\n",
    "train_identity = pd.read_csv('../input/train_identity.csv', index_col='TransactionID')\n",
    "test_identity = pd.read_csv('../input/test_identity.csv', index_col='TransactionID')\n",
    "\n",
    "sample_submission = pd.read_csv('../input/sample_submission.csv', index_col='TransactionID')\n",
    "\n",
    "train = train_transaction.merge(train_identity, how='left', left_index=True, right_index=True)\n",
    "test = test_transaction.merge(test_identity, how='left', left_index=True, right_index=True)\n",
    "\n",
    "print(train.shape)\n",
    "print(test.shape)"
   ]
  },
  {
   "cell_type": "markdown",
   "metadata": {},
   "source": [
    "# Let's treat the TransactionDT feature, per the dataset description given\n",
    "References: https://www.kaggle.com/wajihullahbaig/up-sampling-on-every-hour"
   ]
  },
  {
   "cell_type": "code",
   "execution_count": 3,
   "metadata": {},
   "outputs": [],
   "source": [
    "def derive_hour_feature(df,tname):\n",
    "    \"\"\"\n",
    "    Creates an hour of the day feature, encoded as 0-23. \n",
    "    Parameters: \n",
    "        df : pd.DataFrame\n",
    "            df to manipulate.\n",
    "        tname : str\n",
    "            Name of the time column in df.\n",
    "    \"\"\"\n",
    "    hours = df[tname] / (3600)        \n",
    "    encoded_hours = np.floor(hours) % 24\n",
    "    return encoded_hours\n",
    "\n",
    "train['hours'] = derive_hour_feature(train,'TransactionDT')\n",
    "test['hours'] = derive_hour_feature(test,'TransactionDT')\n"
   ]
  },
  {
   "cell_type": "code",
   "execution_count": 4,
   "metadata": {},
   "outputs": [],
   "source": [
    "del train_transaction, train_identity, test_transaction, test_identity"
   ]
  },
  {
   "cell_type": "markdown",
   "metadata": {},
   "source": [
    "# Drop TransactionDT"
   ]
  },
  {
   "cell_type": "code",
   "execution_count": 5,
   "metadata": {},
   "outputs": [],
   "source": [
    "X_train = train.drop(['TransactionDT'], axis=1)\n",
    "X_test = test.drop(['TransactionDT'], axis=1)"
   ]
  },
  {
   "cell_type": "code",
   "execution_count": 6,
   "metadata": {},
   "outputs": [],
   "source": [
    "del train, test"
   ]
  },
  {
   "cell_type": "markdown",
   "metadata": {},
   "source": [
    "# Lets do Data exploration"
   ]
  },
  {
   "cell_type": "code",
   "execution_count": 7,
   "metadata": {},
   "outputs": [],
   "source": [
    "total = X_train.isnull().sum().sort_values(ascending=False)\n",
    "percent = (X_train.isnull().sum()/X_train.isnull().count()).sort_values(ascending=False)\n",
    "missing_data = pd.concat([total, percent], axis=1, keys=['Total', 'Percent'])"
   ]
  },
  {
   "cell_type": "code",
   "execution_count": 8,
   "metadata": {},
   "outputs": [],
   "source": [
    "notuseful_features = missing_data[missing_data['Percent']>0.80]"
   ]
  },
  {
   "cell_type": "code",
   "execution_count": 9,
   "metadata": {},
   "outputs": [],
   "source": [
    "n = np.array(notuseful_features.index)"
   ]
  },
  {
   "cell_type": "code",
   "execution_count": 10,
   "metadata": {},
   "outputs": [],
   "source": [
    "X_train.drop(['id_25', 'id_07', 'id_08', 'id_21', 'id_26', 'id_22',\n",
    "       'id_23', 'id_27', 'dist2', 'D7', 'id_18', 'D13', 'D14', 'D12',\n",
    "       'id_03', 'id_04', 'D6', 'id_33', 'D8', 'D9', 'id_09', 'id_10',\n",
    "       'id_30', 'id_32', 'id_34', 'id_14', 'V153', 'V155', 'V156', 'V157',\n",
    "       'V149', 'V148', 'V147', 'V146', 'V142', 'V141', 'V154', 'V163',\n",
    "       'V158', 'V140', 'V139', 'V138', 'V161', 'V162', 'V159', 'V160',\n",
    "       'V143', 'V152', 'V151', 'V150', 'V165', 'V166', 'V145', 'V144',\n",
    "       'V164', 'V324', 'V332', 'V323', 'V339', 'V338', 'V337', 'V335',\n",
    "       'V334', 'V333', 'V336', 'V331', 'V329', 'V328', 'V327', 'V326',\n",
    "       'V325', 'V330', 'V322'], axis=1, inplace=True)\n",
    "X_test.drop(['id_25', 'id_07', 'id_08', 'id_21', 'id_26', 'id_22',\n",
    "       'id_23', 'id_27', 'dist2', 'D7', 'id_18', 'D13', 'D14', 'D12',\n",
    "       'id_03', 'id_04', 'D6', 'id_33', 'D8', 'D9', 'id_09', 'id_10',\n",
    "       'id_30', 'id_32', 'id_34', 'id_14', 'V153', 'V155', 'V156', 'V157',\n",
    "       'V149', 'V148', 'V147', 'V146', 'V142', 'V141', 'V154', 'V163',\n",
    "       'V158', 'V140', 'V139', 'V138', 'V161', 'V162', 'V159', 'V160',\n",
    "       'V143', 'V152', 'V151', 'V150', 'V165', 'V166', 'V145', 'V144',\n",
    "       'V164', 'V324', 'V332', 'V323', 'V339', 'V338', 'V337', 'V335',\n",
    "       'V334', 'V333', 'V336', 'V331', 'V329', 'V328', 'V327', 'V326',\n",
    "       'V325', 'V330', 'V322'], axis=1, inplace=True)"
   ]
  },
  {
   "cell_type": "code",
   "execution_count": 11,
   "metadata": {},
   "outputs": [
    {
     "name": "stdout",
     "output_type": "stream",
     "text": [
      "Number of Numerical features:  334\n",
      "Number of Categorical features:  26\n"
     ]
    }
   ],
   "source": [
    "num_fs = X_train.dtypes[X_train.dtypes != \"object\"].index\n",
    "print(\"Number of Numerical features: \", len(num_fs))\n",
    "\n",
    "cat_fs = X_train.dtypes[X_train.dtypes == \"object\"].index\n",
    "print(\"Number of Categorical features: \", len(cat_fs))"
   ]
  },
  {
   "cell_type": "code",
   "execution_count": 12,
   "metadata": {},
   "outputs": [
    {
     "name": "stdout",
     "output_type": "stream",
     "text": [
      "ProductCD :   ['W' 'H' 'C' 'S' 'R']\n",
      "card4 :   ['discover' 'mastercard' 'visa' 'american express' nan]\n",
      "card6 :   ['credit' 'debit' nan 'debit or credit' 'charge card']\n",
      "P_emaildomain :   [nan 'gmail.com' 'outlook.com' 'yahoo.com' 'mail.com' 'anonymous.com'\n",
      " 'hotmail.com' 'verizon.net' 'aol.com' 'me.com' 'comcast.net'\n",
      " 'optonline.net' 'cox.net' 'charter.net' 'rocketmail.com' 'prodigy.net.mx'\n",
      " 'embarqmail.com' 'icloud.com' 'live.com.mx' 'gmail' 'live.com' 'att.net'\n",
      " 'juno.com' 'ymail.com' 'sbcglobal.net' 'bellsouth.net' 'msn.com' 'q.com'\n",
      " 'yahoo.com.mx' 'centurylink.net' 'servicios-ta.com' 'earthlink.net'\n",
      " 'hotmail.es' 'cfl.rr.com' 'roadrunner.com' 'netzero.net' 'gmx.de'\n",
      " 'suddenlink.net' 'frontiernet.net' 'windstream.net' 'frontier.com'\n",
      " 'outlook.es' 'mac.com' 'netzero.com' 'aim.com' 'web.de' 'twc.com'\n",
      " 'cableone.net' 'yahoo.fr' 'yahoo.de' 'yahoo.es' 'sc.rr.com' 'ptd.net'\n",
      " 'live.fr' 'yahoo.co.uk' 'hotmail.fr' 'hotmail.de' 'hotmail.co.uk'\n",
      " 'protonmail.com' 'yahoo.co.jp']\n",
      "R_emaildomain :   [nan 'gmail.com' 'hotmail.com' 'outlook.com' 'anonymous.com' 'charter.net'\n",
      " 'prodigy.net.mx' 'comcast.net' 'live.com.mx' 'icloud.com' 'yahoo.com'\n",
      " 'aol.com' 'juno.com' 'att.net' 'verizon.net' 'yahoo.com.mx'\n",
      " 'bellsouth.net' 'servicios-ta.com' 'ymail.com' 'hotmail.es' 'msn.com'\n",
      " 'optonline.net' 'live.com' 'gmx.de' 'aim.com' 'mail.com' 'me.com'\n",
      " 'outlook.es' 'cox.net' 'earthlink.net' 'embarqmail.com' 'web.de'\n",
      " 'sbcglobal.net' 'scranton.edu' 'mac.com' 'twc.com' 'roadrunner.com'\n",
      " 'yahoo.fr' 'yahoo.de' 'yahoo.es' 'frontiernet.net' 'gmail' 'live.fr'\n",
      " 'q.com' 'yahoo.co.uk' 'windstream.net' 'suddenlink.net' 'hotmail.fr'\n",
      " 'ptd.net' 'hotmail.de' 'frontier.com' 'cfl.rr.com' 'hotmail.co.uk'\n",
      " 'netzero.com' 'netzero.net' 'yahoo.co.jp' 'rocketmail.com'\n",
      " 'centurylink.net' 'protonmail.com' 'cableone.net' 'sc.rr.com']\n",
      "M1 :   ['T' nan 'F']\n",
      "M2 :   ['T' nan 'F']\n",
      "M3 :   ['T' nan 'F']\n",
      "M4 :   ['M2' 'M0' nan 'M1']\n",
      "M5 :   ['F' 'T' nan]\n",
      "M6 :   ['T' 'F' nan]\n",
      "M7 :   [nan 'F' 'T']\n",
      "M8 :   [nan 'F' 'T']\n",
      "M9 :   [nan 'F' 'T']\n",
      "id_12 :   [nan 'NotFound' 'Found']\n",
      "id_15 :   [nan 'New' 'Found' 'Unknown']\n",
      "id_16 :   [nan 'NotFound' 'Found']\n",
      "id_28 :   [nan 'New' 'Found']\n",
      "id_29 :   [nan 'NotFound' 'Found']\n",
      "id_31 :   [nan 'samsung browser 6.2' 'mobile safari 11.0' 'chrome 62.0'\n",
      " 'chrome 62.0 for android' 'edge 15.0' 'mobile safari generic'\n",
      " 'chrome 49.0' 'chrome 61.0' 'edge 16.0' 'safari generic' 'edge 14.0'\n",
      " 'chrome 56.0 for android' 'firefox 57.0' 'chrome 54.0 for android'\n",
      " 'mobile safari uiwebview' 'chrome' 'chrome 62.0 for ios' 'firefox'\n",
      " 'chrome 60.0 for android' 'mobile safari 10.0' 'chrome 61.0 for android'\n",
      " 'ie 11.0 for desktop' 'ie 11.0 for tablet' 'mobile safari 9.0'\n",
      " 'chrome generic' 'other' 'chrome 59.0 for android' 'firefox 56.0'\n",
      " 'android webview 4.0' 'chrome 55.0' 'opera 49.0' 'ie'\n",
      " 'chrome 55.0 for android' 'firefox 52.0' 'chrome 57.0 for android'\n",
      " 'chrome 56.0' 'chrome 46.0 for android' 'chrome 58.0' 'firefox 48.0'\n",
      " 'chrome 59.0' 'samsung browser 4.0' 'edge 13.0' 'chrome 53.0 for android'\n",
      " 'chrome 58.0 for android' 'chrome 60.0' 'mobile safari 8.0'\n",
      " 'firefox generic' 'Generic/Android 7.0' 'mobile' 'Samsung/SM-G532M'\n",
      " 'chrome 50.0 for android' 'chrome 51.0 for android' 'chrome 63.0'\n",
      " 'chrome 52.0 for android' 'chrome 51.0' 'firefox 55.0' 'edge' 'opera'\n",
      " 'chrome generic for android' 'aol' 'samsung browser 5.4' 'Samsung/SCH'\n",
      " 'silk' 'chrome 57.0' 'firefox 47.0' 'chrome 63.0 for android'\n",
      " 'Samsung/SM-G531H' 'chrome 43.0 for android' 'waterfox' 'Nokia/Lumia'\n",
      " 'chrome 63.0 for ios' 'puffin' 'Microsoft/Windows' 'cyberfox'\n",
      " 'Generic/Android' 'samsung' 'opera generic' 'chrome 49.0 for android'\n",
      " 'ZTE/Blade' 'safari' 'android browser 4.0' 'samsung browser 5.2'\n",
      " 'palemoon' 'maxthon' 'line' 'LG/K-200' 'iron' 'BLU/Dash' 'seamonkey'\n",
      " 'firefox 58.0' 'chrome 64.0 for android' 'chrome 64.0' 'firefox 59.0'\n",
      " 'chrome 64.0 for ios' 'M4Tel/M4' 'comodo' 'Lanix/Ilium'\n",
      " 'samsung browser generic' 'chromium' 'opera 51.0' 'Inco/Minion'\n",
      " 'samsung browser 7.0' 'Mozilla/Firefox' 'samsung browser 4.2'\n",
      " 'samsung browser 6.4' 'chrome 65.0' 'chrome 65.0 for android'\n",
      " 'chrome 65.0 for ios' 'Cherry' 'icedragon' 'android' 'edge 17.0'\n",
      " 'chrome 66.0' 'chrome 66.0 for android' 'safari 11.0' 'safari 9.0'\n",
      " 'safari 10.0' 'google' 'chrome 66.0 for ios'\n",
      " 'google search application 48.0' 'opera 52.0' 'firefox 60.0' 'opera 53.0'\n",
      " 'samsung browser 3.3' 'google search application 49.0' 'facebook'\n",
      " 'firefox mobile 61.0' 'chrome 67.0' 'chrome 69.0'\n",
      " 'chrome 67.0 for android']\n",
      "id_35 :   [nan 'T' 'F']\n",
      "id_36 :   [nan 'F' 'T']\n",
      "id_37 :   [nan 'T' 'F']\n",
      "id_38 :   [nan 'T' 'F']\n",
      "DeviceType :   [nan 'mobile' 'desktop']\n",
      "DeviceInfo :   [nan 'SAMSUNG SM-G892A Build/NRD90M' 'iOS Device' ...\n",
      " 'LDN-LX3 Build/HUAWEILDN-LX3' 'Z955A' 'LG-E975']\n"
     ]
    }
   ],
   "source": [
    "n = X_train.select_dtypes(include=object)\n",
    "for col in n.columns:\n",
    "    print(col, ':  ', X_train[col].unique())"
   ]
  },
  {
   "cell_type": "code",
   "execution_count": 13,
   "metadata": {},
   "outputs": [
    {
     "name": "stdout",
     "output_type": "stream",
     "text": [
      "Distribuition of feature: ProductCD\n",
      "W    0.744522\n",
      "C    0.116028\n",
      "R    0.063838\n",
      "H    0.055922\n",
      "S    0.019690\n",
      "Name: ProductCD, dtype: float64\n",
      "##################################################\n",
      "Distribuition of feature: card4\n",
      "visa                0.653296\n",
      "mastercard          0.321271\n",
      "american express    0.014140\n",
      "discover            0.011293\n",
      "Name: card4, dtype: float64\n",
      "##################################################\n",
      "Distribuition of feature: card6\n",
      "debit              0.746963\n",
      "credit             0.252961\n",
      "debit or credit    0.000051\n",
      "charge card        0.000025\n",
      "Name: card6, dtype: float64\n",
      "##################################################\n",
      "Distribuition of feature: P_emaildomain\n",
      "gmail.com           0.460315\n",
      "yahoo.com           0.203462\n",
      "hotmail.com         0.091214\n",
      "anonymous.com       0.074580\n",
      "aol.com             0.057025\n",
      "comcast.net         0.015901\n",
      "icloud.com          0.012633\n",
      "outlook.com         0.010272\n",
      "msn.com             0.008249\n",
      "att.net             0.008130\n",
      "live.com            0.006130\n",
      "sbcglobal.net       0.005987\n",
      "verizon.net         0.005453\n",
      "ymail.com           0.004830\n",
      "bellsouth.net       0.003848\n",
      "yahoo.com.mx        0.003110\n",
      "me.com              0.003068\n",
      "cox.net             0.002808\n",
      "optonline.net       0.002038\n",
      "charter.net         0.001645\n",
      "live.com.mx         0.001510\n",
      "rocketmail.com      0.001338\n",
      "mail.com            0.001127\n",
      "earthlink.net       0.001036\n",
      "gmail               0.001000\n",
      "outlook.es          0.000883\n",
      "mac.com             0.000879\n",
      "juno.com            0.000649\n",
      "aim.com             0.000635\n",
      "windstream.net      0.000615\n",
      "hotmail.es          0.000615\n",
      "roadrunner.com      0.000615\n",
      "hotmail.fr          0.000595\n",
      "frontier.com        0.000564\n",
      "embarqmail.com      0.000524\n",
      "web.de              0.000484\n",
      "twc.com             0.000464\n",
      "netzero.com         0.000464\n",
      "prodigy.net.mx      0.000417\n",
      "centurylink.net     0.000413\n",
      "netzero.net         0.000395\n",
      "frontiernet.net     0.000393\n",
      "q.com               0.000381\n",
      "suddenlink.net      0.000353\n",
      "cfl.rr.com          0.000347\n",
      "sc.rr.com           0.000331\n",
      "cableone.net        0.000321\n",
      "gmx.de              0.000300\n",
      "yahoo.fr            0.000288\n",
      "yahoo.es            0.000270\n",
      "hotmail.co.uk       0.000226\n",
      "protonmail.com      0.000153\n",
      "yahoo.de            0.000149\n",
      "ptd.net             0.000137\n",
      "live.fr             0.000113\n",
      "yahoo.co.uk         0.000099\n",
      "hotmail.de          0.000087\n",
      "servicios-ta.com    0.000071\n",
      "yahoo.co.jp         0.000065\n",
      "Name: P_emaildomain, dtype: float64\n",
      "##################################################\n",
      "Distribuition of feature: R_emaildomain\n",
      "gmail.com           0.416247\n",
      "hotmail.com         0.200370\n",
      "anonymous.com       0.149529\n",
      "yahoo.com           0.086255\n",
      "aol.com             0.026957\n",
      "outlook.com         0.018260\n",
      "comcast.net         0.013198\n",
      "yahoo.com.mx        0.010984\n",
      "icloud.com          0.010183\n",
      "msn.com             0.006206\n",
      "live.com            0.005550\n",
      "live.com.mx         0.005492\n",
      "verizon.net         0.004516\n",
      "me.com              0.004050\n",
      "sbcglobal.net       0.004021\n",
      "cox.net             0.003343\n",
      "outlook.es          0.003154\n",
      "att.net             0.003132\n",
      "bellsouth.net       0.003074\n",
      "hotmail.fr          0.002134\n",
      "hotmail.es          0.002127\n",
      "web.de              0.001726\n",
      "mac.com             0.001588\n",
      "ymail.com           0.001508\n",
      "prodigy.net.mx      0.001508\n",
      "optonline.net       0.001362\n",
      "gmx.de              0.001071\n",
      "yahoo.fr            0.000998\n",
      "charter.net         0.000925\n",
      "mail.com            0.000889\n",
      "hotmail.co.uk       0.000765\n",
      "gmail               0.000692\n",
      "earthlink.net       0.000575\n",
      "yahoo.de            0.000546\n",
      "rocketmail.com      0.000503\n",
      "embarqmail.com      0.000495\n",
      "scranton.edu        0.000459\n",
      "yahoo.es            0.000415\n",
      "live.fr             0.000401\n",
      "roadrunner.com      0.000386\n",
      "juno.com            0.000386\n",
      "frontier.com        0.000379\n",
      "windstream.net      0.000342\n",
      "hotmail.de          0.000306\n",
      "protonmail.com      0.000299\n",
      "yahoo.co.uk         0.000284\n",
      "cfl.rr.com          0.000270\n",
      "aim.com             0.000262\n",
      "servicios-ta.com    0.000255\n",
      "yahoo.co.jp         0.000240\n",
      "twc.com             0.000211\n",
      "ptd.net             0.000197\n",
      "cableone.net        0.000197\n",
      "suddenlink.net      0.000182\n",
      "q.com               0.000182\n",
      "netzero.com         0.000102\n",
      "frontiernet.net     0.000102\n",
      "centurylink.net     0.000087\n",
      "netzero.net         0.000066\n",
      "sc.rr.com           0.000058\n",
      "Name: R_emaildomain, dtype: float64\n",
      "##################################################\n",
      "Distribuition of feature: M1\n",
      "T    0.999922\n",
      "F    0.000078\n",
      "Name: M1, dtype: float64\n",
      "##################################################\n",
      "Distribuition of feature: M2\n",
      "T    0.893651\n",
      "F    0.106349\n",
      "Name: M2, dtype: float64\n",
      "##################################################\n",
      "Distribuition of feature: M3\n",
      "T    0.788038\n",
      "F    0.211962\n",
      "Name: M3, dtype: float64\n",
      "##################################################\n",
      "Distribuition of feature: M4\n",
      "M0    0.635417\n",
      "M2    0.193678\n",
      "M1    0.170905\n",
      "Name: M4, dtype: float64\n",
      "##################################################\n",
      "Distribuition of feature: M5\n",
      "F    0.551912\n",
      "T    0.448088\n",
      "Name: M5, dtype: float64\n",
      "##################################################\n",
      "Distribuition of feature: M6\n",
      "F    0.540994\n",
      "T    0.459006\n",
      "Name: M6, dtype: float64\n",
      "##################################################\n",
      "Distribuition of feature: M7\n",
      "F    0.865312\n",
      "T    0.134688\n",
      "Name: M7, dtype: float64\n",
      "##################################################\n",
      "Distribuition of feature: M8\n",
      "F    0.635524\n",
      "T    0.364476\n",
      "Name: M8, dtype: float64\n",
      "##################################################\n",
      "Distribuition of feature: M9\n",
      "T    0.841859\n",
      "F    0.158141\n",
      "Name: M9, dtype: float64\n",
      "##################################################\n",
      "Distribuition of feature: id_12\n",
      "NotFound    0.85296\n",
      "Found       0.14704\n",
      "Name: id_12, dtype: float64\n",
      "##################################################\n",
      "Distribuition of feature: id_15\n",
      "Found      0.480392\n",
      "New        0.437011\n",
      "Unknown    0.082597\n",
      "Name: id_15, dtype: float64\n",
      "##################################################\n",
      "Distribuition of feature: id_16\n",
      "Found       0.512788\n",
      "NotFound    0.487212\n",
      "Name: id_16, dtype: float64\n",
      "##################################################\n",
      "Distribuition of feature: id_28\n",
      "Found    0.540737\n",
      "New      0.459263\n",
      "Name: id_28, dtype: float64\n",
      "##################################################\n",
      "Distribuition of feature: id_29\n",
      "Found       0.531473\n",
      "NotFound    0.468527\n",
      "Name: id_29, dtype: float64\n",
      "##################################################\n",
      "Distribuition of feature: id_31\n",
      "chrome 63.0                   0.156827\n",
      "mobile safari 11.0            0.095686\n",
      "mobile safari generic         0.081792\n",
      "ie 11.0 for desktop           0.064370\n",
      "safari generic                0.058418\n",
      "chrome 62.0                   0.051197\n",
      "chrome 65.0                   0.048980\n",
      "chrome 64.0                   0.047839\n",
      "chrome 63.0 for android       0.041388\n",
      "chrome generic                0.034060\n",
      "chrome 66.0                   0.030396\n",
      "edge 16.0                     0.029854\n",
      "chrome 64.0 for android       0.024757\n",
      "chrome 65.0 for android       0.023781\n",
      "firefox 57.0                  0.023631\n",
      "mobile safari 10.0            0.019810\n",
      "chrome 66.0 for android       0.016745\n",
      "chrome 62.0 for android       0.014948\n",
      "edge 15.0                     0.011406\n",
      "chrome generic for android    0.008255\n",
      "firefox 59.0                  0.007834\n",
      "samsung browser 6.2           0.007563\n",
      "firefox 58.0                  0.005938\n",
      "chrome 49.0                   0.005125\n",
      "firefox                       0.004797\n",
      "ie 11.0 for tablet            0.004612\n",
      "chrome 61.0                   0.004576\n",
      "safari 11.0                   0.003921\n",
      "mobile safari 9.0             0.003857\n",
      "chrome 61.0 for android       0.003835\n",
      "                                ...   \n",
      "safari                        0.000100\n",
      "mobile                        0.000078\n",
      "ZTE/Blade                     0.000064\n",
      "samsung browser 3.3           0.000057\n",
      "line                          0.000043\n",
      "maxthon                       0.000043\n",
      "comodo                        0.000043\n",
      "Mozilla/Firefox               0.000036\n",
      "icedragon                     0.000036\n",
      "aol                           0.000036\n",
      "Lanix/Ilium                   0.000021\n",
      "puffin                        0.000014\n",
      "facebook                      0.000014\n",
      "waterfox                      0.000014\n",
      "palemoon                      0.000014\n",
      "seamonkey                     0.000007\n",
      "cyberfox                      0.000007\n",
      "Cherry                        0.000007\n",
      "iron                          0.000007\n",
      "Inco/Minion                   0.000007\n",
      "firefox mobile 61.0           0.000007\n",
      "chrome 69.0                   0.000007\n",
      "android                       0.000007\n",
      "M4Tel/M4                      0.000007\n",
      "chrome 67.0 for android       0.000007\n",
      "Nokia/Lumia                   0.000007\n",
      "Samsung/SCH                   0.000007\n",
      "LG/K-200                      0.000007\n",
      "BLU/Dash                      0.000007\n",
      "chromium                      0.000007\n",
      "Name: id_31, Length: 130, dtype: float64\n",
      "##################################################\n",
      "Distribuition of feature: id_35\n",
      "T    0.551931\n",
      "F    0.448069\n",
      "Name: id_35, dtype: float64\n",
      "##################################################\n",
      "Distribuition of feature: id_36\n",
      "F    0.950924\n",
      "T    0.049076\n",
      "Name: id_36, dtype: float64\n",
      "##################################################\n",
      "Distribuition of feature: id_37\n",
      "T    0.783431\n",
      "F    0.216569\n",
      "Name: id_37, dtype: float64\n",
      "##################################################\n",
      "Distribuition of feature: id_38\n",
      "F    0.524325\n",
      "T    0.475675\n",
      "Name: id_38, dtype: float64\n",
      "##################################################\n",
      "Distribuition of feature: DeviceType\n",
      "desktop    0.604822\n",
      "mobile     0.395178\n",
      "Name: DeviceType, dtype: float64\n",
      "##################################################\n",
      "Distribuition of feature: DeviceInfo\n",
      "Windows                           0.402154\n",
      "iOS Device                        0.166703\n",
      "MacOS                             0.105953\n",
      "Trident/7.0                       0.062697\n",
      "rv:11.0                           0.016020\n",
      "rv:57.0                           0.008107\n",
      "SM-J700M Build/MMB29K             0.004626\n",
      "SM-G610M Build/MMB29K             0.003885\n",
      "SM-G531H Build/LMY48B             0.003455\n",
      "rv:59.0                           0.003051\n",
      "SM-G935F Build/NRD90M             0.002815\n",
      "SM-G955U Build/NRD90M             0.002764\n",
      "SM-G532M Build/MMB29T             0.002663\n",
      "ALE-L23 Build/HuaweiALE-L23       0.002629\n",
      "SM-G950U Build/NRD90M             0.002444\n",
      "SM-G930V Build/NRD90M             0.002309\n",
      "rv:58.0                           0.002267\n",
      "rv:52.0                           0.002157\n",
      "SAMSUNG                           0.001980\n",
      "SM-G950F Build/NRD90M             0.001896\n",
      "Moto G (4) Build/NPJ25.93-14.7    0.001846\n",
      "SM-N950U Build/NMF26X             0.001761\n",
      "SM-A300H Build/LRX22G             0.001711\n",
      "hi6210sft Build/MRA58K            0.001601\n",
      "SM-J730GM Build/NRD90M            0.001551\n",
      "SM-G570M Build/MMB29K             0.001534\n",
      "rv:48.0                           0.001500\n",
      "CAM-L03 Build/HUAWEICAM-L03       0.001449\n",
      "SM-J320M Build/LMY47V             0.001441\n",
      "LG-M700 Build/NMF26X              0.001424\n",
      "                                    ...   \n",
      "SLA-L22                           0.000008\n",
      "VS880PP                           0.000008\n",
      "P00A                              0.000008\n",
      "Z970                              0.000008\n",
      "R8106                             0.000008\n",
      "LGMS631                           0.000008\n",
      "Build/KOT49H                      0.000008\n",
      "SM-J730F                          0.000008\n",
      "SM-G930P                          0.000008\n",
      "MYA-L23                           0.000008\n",
      "GT-N8010                          0.000008\n",
      "ZTE-Z956                          0.000008\n",
      "Wileyfox                          0.000008\n",
      "5045I                             0.000008\n",
      "ORION                             0.000008\n",
      "XT1635-02 Build/OPN27.76-12-22    0.000008\n",
      "SM-G903W                          0.000008\n",
      "D5306                             0.000008\n",
      "SM-G950U1 Build/R16NW             0.000008\n",
      "SM-T210                           0.000008\n",
      "E6790TM                           0.000008\n",
      "STELLAR                           0.000008\n",
      "LG-F400K                          0.000008\n",
      "QMV7A                             0.000008\n",
      "SAMSUNG-SM-G890A                  0.000008\n",
      "IdeaTabA1000-F                    0.000008\n",
      "SM-G360M                          0.000008\n",
      "SM-G530T1                         0.000008\n",
      "WAS-LX2J                          0.000008\n",
      "LG-D725                           0.000008\n",
      "Name: DeviceInfo, Length: 1786, dtype: float64\n",
      "##################################################\n"
     ]
    }
   ],
   "source": [
    "## Let's see the distribuition of the categories: \n",
    "for cat in list(cat_fs):\n",
    "    print('Distribuition of feature:', cat)\n",
    "    print(X_train[cat].value_counts(normalize=True))\n",
    "    print('#'*50)"
   ]
  },
  {
   "cell_type": "markdown",
   "metadata": {},
   "source": [
    "I will still explore EDA in the next version of this notebook. For now, proceeding with other steps."
   ]
  },
  {
   "cell_type": "code",
   "execution_count": 14,
   "metadata": {},
   "outputs": [],
   "source": [
    "# Seaborn visualization library\n",
    "# import seaborn as sns\n",
    "# Create the default pairplot\n",
    "# sns.pairplot(X_train, hue = 'isFraud')"
   ]
  },
  {
   "cell_type": "markdown",
   "metadata": {},
   "source": [
    "# Lets separate the target variable from the training dataset "
   ]
  },
  {
   "cell_type": "code",
   "execution_count": 15,
   "metadata": {},
   "outputs": [],
   "source": [
    "y_train = X_train['isFraud']\n",
    "X_train.drop(['isFraud'], axis=1, inplace = True)\n",
    "y_pred = sample_submission"
   ]
  },
  {
   "cell_type": "markdown",
   "metadata": {},
   "source": [
    "# Treat NaNs\n",
    "There are better ways to do. but for now going with filling as below; intend to revisit this later"
   ]
  },
  {
   "cell_type": "code",
   "execution_count": 16,
   "metadata": {},
   "outputs": [],
   "source": [
    "X_train = X_train.fillna(-999)\n",
    "X_test = X_test.fillna(-999)"
   ]
  },
  {
   "cell_type": "code",
   "execution_count": 17,
   "metadata": {},
   "outputs": [
    {
     "data": {
      "text/plain": [
       "(Index(['TransactionAmt', 'ProductCD', 'card1', 'card2', 'card3', 'card4',\n",
       "        'card5', 'card6', 'addr1', 'addr2',\n",
       "        ...\n",
       "        'id_28', 'id_29', 'id_31', 'id_35', 'id_36', 'id_37', 'id_38',\n",
       "        'DeviceType', 'DeviceInfo', 'hours'],\n",
       "       dtype='object', length=359),\n",
       " Index(['TransactionAmt', 'ProductCD', 'card1', 'card2', 'card3', 'card4',\n",
       "        'card5', 'card6', 'addr1', 'addr2',\n",
       "        ...\n",
       "        'id_28', 'id_29', 'id_31', 'id_35', 'id_36', 'id_37', 'id_38',\n",
       "        'DeviceType', 'DeviceInfo', 'hours'],\n",
       "       dtype='object', length=359),\n",
       " (590540,))"
      ]
     },
     "execution_count": 17,
     "metadata": {},
     "output_type": "execute_result"
    }
   ],
   "source": [
    "X_train.columns, X_test.columns, y_train.shape"
   ]
  },
  {
   "cell_type": "markdown",
   "metadata": {},
   "source": [
    "# Convert categorical variables \n",
    "Ideally, we should apply label encoding & then one hot encoding OR use getdummies from pandas. My worry is, there are already too many unexplainable features in this dataset. Applying one hot encoding will add more features by cardinality and not sure if that is a good sign. Also, I have read in the discussion forum of this competition that one hot encoding was not that useful. So going with the flow of just applying label encoding. Remember i told you, this is my first Kaggle Kernel submission and so excited to have couple of good commits:P"
   ]
  },
  {
   "cell_type": "code",
   "execution_count": 18,
   "metadata": {},
   "outputs": [],
   "source": [
    "# Label Encoding\n",
    "for f in X_train.columns:\n",
    "    if X_train[f].dtype=='object' or X_test[f].dtype=='object': \n",
    "        lbl = preprocessing.LabelEncoder()\n",
    "        lbl.fit(list(X_train[f].values) + list(X_test[f].values))\n",
    "        X_train[f] = lbl.transform(list(X_train[f].values))\n",
    "        X_test[f] = lbl.transform(list(X_test[f].values))   "
   ]
  },
  {
   "cell_type": "markdown",
   "metadata": {},
   "source": [
    "# RAM Optimization\n",
    "This is adapted from the kaggle kernel https://www.kaggle.com/xhlulu/ieee-fraud-efficient-grid-search-with-xgboost.\n",
    "I just use a normal PC that has 8GB RAM. so any memory saving step is a boost for people like me. Also believe me, i truly understand the below code snippet :P"
   ]
  },
  {
   "cell_type": "code",
   "execution_count": 19,
   "metadata": {},
   "outputs": [],
   "source": [
    "def reduce_mem_usage(df):\n",
    "    \"\"\" iterate through all the columns of a dataframe and modify the data type\n",
    "        to reduce memory usage.        \n",
    "    \"\"\"\n",
    "    start_mem = df.memory_usage().sum() / 1024**2\n",
    "    print('Memory usage of dataframe is {:.2f} MB'.format(start_mem))\n",
    "    \n",
    "    for col in df.columns:\n",
    "        col_type = df[col].dtype\n",
    "        \n",
    "        if col_type != object:\n",
    "            c_min = df[col].min()\n",
    "            c_max = df[col].max()\n",
    "            if str(col_type)[:3] == 'int':\n",
    "                if c_min > np.iinfo(np.int8).min and c_max < np.iinfo(np.int8).max:\n",
    "                    df[col] = df[col].astype(np.int8)\n",
    "                elif c_min > np.iinfo(np.int16).min and c_max < np.iinfo(np.int16).max:\n",
    "                    df[col] = df[col].astype(np.int16)\n",
    "                elif c_min > np.iinfo(np.int32).min and c_max < np.iinfo(np.int32).max:\n",
    "                    df[col] = df[col].astype(np.int32)\n",
    "                elif c_min > np.iinfo(np.int64).min and c_max < np.iinfo(np.int64).max:\n",
    "                    df[col] = df[col].astype(np.int64)  \n",
    "            else:\n",
    "                if c_min > np.finfo(np.float16).min and c_max < np.finfo(np.float16).max:\n",
    "                    df[col] = df[col].astype(np.float16)\n",
    "                elif c_min > np.finfo(np.float32).min and c_max < np.finfo(np.float32).max:\n",
    "                    df[col] = df[col].astype(np.float32)\n",
    "                else:\n",
    "                    df[col] = df[col].astype(np.float64)\n",
    "        else:\n",
    "            df[col] = df[col].astype('category')\n",
    "\n",
    "    end_mem = df.memory_usage().sum() / 1024**2\n",
    "    print('Memory usage after optimization is: {:.2f} MB'.format(end_mem))\n",
    "    print('Decreased by {:.1f}%'.format(100 * (start_mem - end_mem) / start_mem))\n",
    "    \n",
    "    return df"
   ]
  },
  {
   "cell_type": "code",
   "execution_count": 20,
   "metadata": {},
   "outputs": [
    {
     "name": "stdout",
     "output_type": "stream",
     "text": [
      "Memory usage of dataframe is 1641.97 MB\n",
      "Memory usage after optimization is: 454.78 MB\n",
      "Decreased by 72.3%\n",
      "CPU times: user 44.9 s, sys: 1min 55s, total: 2min 40s\n",
      "Wall time: 2min 40s\n"
     ]
    }
   ],
   "source": [
    "%%time\n",
    "X_train = reduce_mem_usage(X_train)"
   ]
  },
  {
   "cell_type": "code",
   "execution_count": 21,
   "metadata": {},
   "outputs": [
    {
     "name": "stdout",
     "output_type": "stream",
     "text": [
      "Memory usage of dataframe is 1411.67 MB\n",
      "Memory usage after optimization is: 399.81 MB\n",
      "Decreased by 71.7%\n"
     ]
    }
   ],
   "source": [
    "X_test = reduce_mem_usage(X_test)"
   ]
  },
  {
   "cell_type": "markdown",
   "metadata": {},
   "source": [
    "# Let's try the AutoML frameworks"
   ]
  },
  {
   "cell_type": "code",
   "execution_count": 22,
   "metadata": {},
   "outputs": [
    {
     "data": {
      "text/plain": [
       "((590540, 359), (506691, 359), (590540,), (506691, 1))"
      ]
     },
     "execution_count": 22,
     "metadata": {},
     "output_type": "execute_result"
    }
   ],
   "source": [
    "X_train.shape, X_test.shape, y_train.shape, y_pred.shape"
   ]
  },
  {
   "cell_type": "code",
   "execution_count": 23,
   "metadata": {},
   "outputs": [
    {
     "name": "stdout",
     "output_type": "stream",
     "text": [
      "CPU times: user 1.31 s, sys: 672 ms, total: 1.98 s\n",
      "Wall time: 2 s\n"
     ]
    }
   ],
   "source": [
    "%%time\n",
    "from sklearn.model_selection import train_test_split\n",
    "X_tr, X_te, y_tr, y_te = train_test_split(X_train, y_train,train_size=0.80, test_size=0.20)"
   ]
  },
  {
   "cell_type": "code",
   "execution_count": 24,
   "metadata": {},
   "outputs": [
    {
     "data": {
      "application/vnd.jupyter.widget-view+json": {
       "model_id": "2c0aef6263ae4b7bac54730510436af2",
       "version_major": 2,
       "version_minor": 0
      },
      "text/plain": [
       "HBox(children=(IntProgress(value=0, description='Optimization Progress', max=30, style=ProgressStyle(descripti…"
      ]
     },
     "metadata": {},
     "output_type": "display_data"
    },
    {
     "name": "stdout",
     "output_type": "stream",
     "text": [
      "Generation 1 - Current best internal CV score: 0.7290538728152991\n",
      "Generation 2 - Current best internal CV score: 0.7290538728152991\n",
      "Generation 3 - Current best internal CV score: 0.8218767635746419\n",
      "Generation 4 - Current best internal CV score: 0.8218767635746419\n",
      "Generation 5 - Current best internal CV score: 0.8219322540629437\n",
      "\r\n",
      "Best pipeline: DecisionTreeClassifier(DecisionTreeClassifier(input_matrix, criterion=gini, max_depth=7, min_samples_leaf=6, min_samples_split=14), criterion=gini, max_depth=4, min_samples_leaf=15, min_samples_split=9)\n",
      "CPU times: user 2h 12min 54s, sys: 3min 18s, total: 2h 16min 13s\n",
      "Wall time: 2h 16min 19s\n"
     ]
    },
    {
     "data": {
      "text/plain": [
       "TPOTClassifier(config_dict=None, crossover_rate=0.1, cv=5,\n",
       "               disable_update_check=False, early_stop=5, generations=5,\n",
       "               max_eval_time_mins=5, max_time_mins=None, memory=None,\n",
       "               mutation_rate=0.9, n_jobs=1, offspring_size=None,\n",
       "               periodic_checkpoint_folder=None, population_size=5,\n",
       "               random_state=None, scoring='roc_auc', subsample=1.0,\n",
       "               template=None, use_dask=False, verbosity=2, warm_start=True)"
      ]
     },
     "execution_count": 24,
     "metadata": {},
     "output_type": "execute_result"
    }
   ],
   "source": [
    "%%time\n",
    "from tpot import TPOTClassifier\n",
    "tpot = TPOTClassifier(generations=5, population_size=5, verbosity=2,cv=5, scoring='roc_auc', warm_start=True, early_stop=5 )\n",
    "tpot.fit(X_tr, y_tr)"
   ]
  },
  {
   "cell_type": "code",
   "execution_count": 25,
   "metadata": {},
   "outputs": [
    {
     "name": "stdout",
     "output_type": "stream",
     "text": [
      "ROC_AUC is 83.93510747636397%\n",
      "CPU times: user 1.17 s, sys: 1.23 s, total: 2.4 s\n",
      "Wall time: 2.39 s\n"
     ]
    }
   ],
   "source": [
    "%%time\n",
    "print(\"ROC_AUC is {}%\".format(tpot.score(X_te, y_te)*100))"
   ]
  },
  {
   "cell_type": "markdown",
   "metadata": {},
   "source": [
    "# Now lets do prediction on the sample_submission dataset"
   ]
  },
  {
   "cell_type": "code",
   "execution_count": 26,
   "metadata": {},
   "outputs": [
    {
     "name": "stdout",
     "output_type": "stream",
     "text": [
      "CPU times: user 3.88 s, sys: 3.2 s, total: 7.08 s\n",
      "Wall time: 7.09 s\n"
     ]
    }
   ],
   "source": [
    "%%time\n",
    "preds = tpot.predict(X_test)"
   ]
  },
  {
   "cell_type": "code",
   "execution_count": 27,
   "metadata": {},
   "outputs": [
    {
     "name": "stdout",
     "output_type": "stream",
     "text": [
      "CPU times: user 3.74 s, sys: 2.85 s, total: 6.59 s\n",
      "Wall time: 6.58 s\n"
     ]
    }
   ],
   "source": [
    "%%time\n",
    "preds_probab = tpot.predict_proba(X_test)"
   ]
  },
  {
   "cell_type": "code",
   "execution_count": 28,
   "metadata": {},
   "outputs": [],
   "source": [
    "sample_submission['isFraud'] = '0'\n",
    "sample_submission['isFraud'] = preds\n",
    "sample_submission.to_csv('TPOT_automl_submission_pred_3.csv', index=True)"
   ]
  },
  {
   "cell_type": "markdown",
   "metadata": {},
   "source": [
    "Using 1 - probab, since the output class predictor is predicting non-Fraud %"
   ]
  },
  {
   "cell_type": "code",
   "execution_count": 29,
   "metadata": {},
   "outputs": [],
   "source": [
    "sample_submission['isFraud'] = '0'\n",
    "sample_submission['isFraud'] = 1.000000 - preds_probab\n",
    "sample_submission.to_csv('TPOT_automl_submission_probab_3.csv', index=True)"
   ]
  }
 ],
 "metadata": {
  "kernelspec": {
   "display_name": "Python 3",
   "language": "python",
   "name": "python3"
  },
  "language_info": {
   "codemirror_mode": {
    "name": "ipython",
    "version": 3
   },
   "file_extension": ".py",
   "mimetype": "text/x-python",
   "name": "python",
   "nbconvert_exporter": "python",
   "pygments_lexer": "ipython3",
   "version": "3.6.6"
  },
  "widgets": {
   "application/vnd.jupyter.widget-state+json": {
    "state": {
     "2656ffe6fc96472aaa31b97cd0cebf9a": {
      "model_module": "@jupyter-widgets/controls",
      "model_module_version": "1.5.0",
      "model_name": "IntProgressModel",
      "state": {
       "_dom_classes": [],
       "_model_module": "@jupyter-widgets/controls",
       "_model_module_version": "1.5.0",
       "_model_name": "IntProgressModel",
       "_view_count": null,
       "_view_module": "@jupyter-widgets/controls",
       "_view_module_version": "1.5.0",
       "_view_name": "ProgressView",
       "bar_style": "",
       "description": "Optimization Progress",
       "description_tooltip": null,
       "layout": "IPY_MODEL_8acde4aaba8646ca891ad05aa6820a17",
       "max": 30,
       "min": 0,
       "orientation": "horizontal",
       "style": "IPY_MODEL_98d687902a7743e4b201f1a00a68d453",
       "value": 30
      }
     },
     "2c0aef6263ae4b7bac54730510436af2": {
      "model_module": "@jupyter-widgets/controls",
      "model_module_version": "1.5.0",
      "model_name": "HBoxModel",
      "state": {
       "_dom_classes": [],
       "_model_module": "@jupyter-widgets/controls",
       "_model_module_version": "1.5.0",
       "_model_name": "HBoxModel",
       "_view_count": null,
       "_view_module": "@jupyter-widgets/controls",
       "_view_module_version": "1.5.0",
       "_view_name": "HBoxView",
       "box_style": "",
       "children": [
        "IPY_MODEL_2656ffe6fc96472aaa31b97cd0cebf9a",
        "IPY_MODEL_e837fbf603154284a624b815d5565700"
       ],
       "layout": "IPY_MODEL_d520821aa6514323ad9ee9e350de8d22"
      }
     },
     "2dca43790d254e7e97130f14cdcec19e": {
      "model_module": "@jupyter-widgets/controls",
      "model_module_version": "1.5.0",
      "model_name": "DescriptionStyleModel",
      "state": {
       "_model_module": "@jupyter-widgets/controls",
       "_model_module_version": "1.5.0",
       "_model_name": "DescriptionStyleModel",
       "_view_count": null,
       "_view_module": "@jupyter-widgets/base",
       "_view_module_version": "1.2.0",
       "_view_name": "StyleView",
       "description_width": ""
      }
     },
     "8448c3c50330466186eeb9064aec55f2": {
      "model_module": "@jupyter-widgets/base",
      "model_module_version": "1.2.0",
      "model_name": "LayoutModel",
      "state": {
       "_model_module": "@jupyter-widgets/base",
       "_model_module_version": "1.2.0",
       "_model_name": "LayoutModel",
       "_view_count": null,
       "_view_module": "@jupyter-widgets/base",
       "_view_module_version": "1.2.0",
       "_view_name": "LayoutView",
       "align_content": null,
       "align_items": null,
       "align_self": null,
       "border": null,
       "bottom": null,
       "display": null,
       "flex": null,
       "flex_flow": null,
       "grid_area": null,
       "grid_auto_columns": null,
       "grid_auto_flow": null,
       "grid_auto_rows": null,
       "grid_column": null,
       "grid_gap": null,
       "grid_row": null,
       "grid_template_areas": null,
       "grid_template_columns": null,
       "grid_template_rows": null,
       "height": null,
       "justify_content": null,
       "justify_items": null,
       "left": null,
       "margin": null,
       "max_height": null,
       "max_width": null,
       "min_height": null,
       "min_width": null,
       "object_fit": null,
       "object_position": null,
       "order": null,
       "overflow": null,
       "overflow_x": null,
       "overflow_y": null,
       "padding": null,
       "right": null,
       "top": null,
       "visibility": null,
       "width": null
      }
     },
     "8acde4aaba8646ca891ad05aa6820a17": {
      "model_module": "@jupyter-widgets/base",
      "model_module_version": "1.2.0",
      "model_name": "LayoutModel",
      "state": {
       "_model_module": "@jupyter-widgets/base",
       "_model_module_version": "1.2.0",
       "_model_name": "LayoutModel",
       "_view_count": null,
       "_view_module": "@jupyter-widgets/base",
       "_view_module_version": "1.2.0",
       "_view_name": "LayoutView",
       "align_content": null,
       "align_items": null,
       "align_self": null,
       "border": null,
       "bottom": null,
       "display": null,
       "flex": null,
       "flex_flow": null,
       "grid_area": null,
       "grid_auto_columns": null,
       "grid_auto_flow": null,
       "grid_auto_rows": null,
       "grid_column": null,
       "grid_gap": null,
       "grid_row": null,
       "grid_template_areas": null,
       "grid_template_columns": null,
       "grid_template_rows": null,
       "height": null,
       "justify_content": null,
       "justify_items": null,
       "left": null,
       "margin": null,
       "max_height": null,
       "max_width": null,
       "min_height": null,
       "min_width": null,
       "object_fit": null,
       "object_position": null,
       "order": null,
       "overflow": null,
       "overflow_x": null,
       "overflow_y": null,
       "padding": null,
       "right": null,
       "top": null,
       "visibility": null,
       "width": null
      }
     },
     "98d687902a7743e4b201f1a00a68d453": {
      "model_module": "@jupyter-widgets/controls",
      "model_module_version": "1.5.0",
      "model_name": "ProgressStyleModel",
      "state": {
       "_model_module": "@jupyter-widgets/controls",
       "_model_module_version": "1.5.0",
       "_model_name": "ProgressStyleModel",
       "_view_count": null,
       "_view_module": "@jupyter-widgets/base",
       "_view_module_version": "1.2.0",
       "_view_name": "StyleView",
       "bar_color": null,
       "description_width": "initial"
      }
     },
     "d520821aa6514323ad9ee9e350de8d22": {
      "model_module": "@jupyter-widgets/base",
      "model_module_version": "1.2.0",
      "model_name": "LayoutModel",
      "state": {
       "_model_module": "@jupyter-widgets/base",
       "_model_module_version": "1.2.0",
       "_model_name": "LayoutModel",
       "_view_count": null,
       "_view_module": "@jupyter-widgets/base",
       "_view_module_version": "1.2.0",
       "_view_name": "LayoutView",
       "align_content": null,
       "align_items": null,
       "align_self": null,
       "border": null,
       "bottom": null,
       "display": null,
       "flex": null,
       "flex_flow": null,
       "grid_area": null,
       "grid_auto_columns": null,
       "grid_auto_flow": null,
       "grid_auto_rows": null,
       "grid_column": null,
       "grid_gap": null,
       "grid_row": null,
       "grid_template_areas": null,
       "grid_template_columns": null,
       "grid_template_rows": null,
       "height": null,
       "justify_content": null,
       "justify_items": null,
       "left": null,
       "margin": null,
       "max_height": null,
       "max_width": null,
       "min_height": null,
       "min_width": null,
       "object_fit": null,
       "object_position": null,
       "order": null,
       "overflow": null,
       "overflow_x": null,
       "overflow_y": null,
       "padding": null,
       "right": null,
       "top": null,
       "visibility": null,
       "width": null
      }
     },
     "e837fbf603154284a624b815d5565700": {
      "model_module": "@jupyter-widgets/controls",
      "model_module_version": "1.5.0",
      "model_name": "HTMLModel",
      "state": {
       "_dom_classes": [],
       "_model_module": "@jupyter-widgets/controls",
       "_model_module_version": "1.5.0",
       "_model_name": "HTMLModel",
       "_view_count": null,
       "_view_module": "@jupyter-widgets/controls",
       "_view_module_version": "1.5.0",
       "_view_name": "HTMLView",
       "description": "",
       "description_tooltip": null,
       "layout": "IPY_MODEL_8448c3c50330466186eeb9064aec55f2",
       "placeholder": "​",
       "style": "IPY_MODEL_2dca43790d254e7e97130f14cdcec19e",
       "value": "| 47/? [2:14:03&lt;00:00, 147.42s/pipeline]"
      }
     }
    },
    "version_major": 2,
    "version_minor": 0
   }
  }
 },
 "nbformat": 4,
 "nbformat_minor": 1
}
