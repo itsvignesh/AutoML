{
 "cells": [
  {
   "cell_type": "code",
   "execution_count": 1,
   "metadata": {
    "_cell_guid": "b1076dfc-b9ad-4769-8c92-a6c4dae69d19",
    "_uuid": "8f2839f25d086af736a60e9eeb907d3b93b6e0e5"
   },
   "outputs": [
    {
     "name": "stdout",
     "output_type": "stream",
     "text": [
      "/kaggle/input/house-prices-advanced-regression-techniques/test.csv\n",
      "/kaggle/input/house-prices-advanced-regression-techniques/train.csv\n",
      "/kaggle/input/house-prices-advanced-regression-techniques/sample_submission.csv\n",
      "/kaggle/input/house-prices-advanced-regression-techniques/data_description.txt\n"
     ]
    }
   ],
   "source": [
    "# This Python 3 environment comes with many helpful analytics libraries installed\n",
    "# It is defined by the kaggle/python docker image: https://github.com/kaggle/docker-python\n",
    "# For example, here's several helpful packages to load in \n",
    "\n",
    "import numpy as np # linear algebra\n",
    "import pandas as pd # data processing, CSV file I/O (e.g. pd.read_csv)\n",
    "\n",
    "# Input data files are available in the \"../input/\" directory.\n",
    "# For example, running this (by clicking run or pressing Shift+Enter) will list all files under the input directory\n",
    "\n",
    "import os\n",
    "for dirname, _, filenames in os.walk('/kaggle/input'):\n",
    "    for filename in filenames:\n",
    "        print(os.path.join(dirname, filename))\n",
    "\n",
    "# Any results you write to the current directory are saved as output."
   ]
  },
  {
   "cell_type": "code",
   "execution_count": 2,
   "metadata": {},
   "outputs": [
    {
     "name": "stdout",
     "output_type": "stream",
     "text": [
      "3.26.0.2\n",
      "Checking whether there is an H2O instance running at http://localhost:54321 ..... not found.\n",
      "Attempting to start a local H2O server...\n",
      "  Java Version: openjdk version \"1.8.0_222\"; OpenJDK Runtime Environment (build 1.8.0_222-8u222-b10-1~deb9u1-b10); OpenJDK 64-Bit Server VM (build 25.222-b10, mixed mode)\n",
      "  Starting server from /opt/conda/lib/python3.6/site-packages/h2o/backend/bin/h2o.jar\n",
      "  Ice root: /tmp/tmpf9hwf70e\n",
      "  JVM stdout: /tmp/tmpf9hwf70e/h2o_unknownUser_started_from_python.out\n",
      "  JVM stderr: /tmp/tmpf9hwf70e/h2o_unknownUser_started_from_python.err\n",
      "  Server is running at http://127.0.0.1:54321\n",
      "Connecting to H2O server at http://127.0.0.1:54321 ... successful.\n"
     ]
    },
    {
     "data": {
      "text/html": [
       "<div style=\"overflow:auto\"><table style=\"width:50%\"><tr><td>H2O cluster uptime:</td>\n",
       "<td>02 secs</td></tr>\n",
       "<tr><td>H2O cluster timezone:</td>\n",
       "<td>Etc/UTC</td></tr>\n",
       "<tr><td>H2O data parsing timezone:</td>\n",
       "<td>UTC</td></tr>\n",
       "<tr><td>H2O cluster version:</td>\n",
       "<td>3.26.0.2</td></tr>\n",
       "<tr><td>H2O cluster version age:</td>\n",
       "<td>27 days </td></tr>\n",
       "<tr><td>H2O cluster name:</td>\n",
       "<td>H2O_from_python_unknownUser_6inr6x</td></tr>\n",
       "<tr><td>H2O cluster total nodes:</td>\n",
       "<td>1</td></tr>\n",
       "<tr><td>H2O cluster free memory:</td>\n",
       "<td>10.67 Gb</td></tr>\n",
       "<tr><td>H2O cluster total cores:</td>\n",
       "<td>4</td></tr>\n",
       "<tr><td>H2O cluster allowed cores:</td>\n",
       "<td>4</td></tr>\n",
       "<tr><td>H2O cluster status:</td>\n",
       "<td>accepting new members, healthy</td></tr>\n",
       "<tr><td>H2O connection url:</td>\n",
       "<td>http://127.0.0.1:54321</td></tr>\n",
       "<tr><td>H2O connection proxy:</td>\n",
       "<td>None</td></tr>\n",
       "<tr><td>H2O internal security:</td>\n",
       "<td>False</td></tr>\n",
       "<tr><td>H2O API Extensions:</td>\n",
       "<td>Amazon S3, XGBoost, Algos, AutoML, Core V3, Core V4</td></tr>\n",
       "<tr><td>Python version:</td>\n",
       "<td>3.6.6 final</td></tr></table></div>"
      ],
      "text/plain": [
       "--------------------------  ---------------------------------------------------\n",
       "H2O cluster uptime:         02 secs\n",
       "H2O cluster timezone:       Etc/UTC\n",
       "H2O data parsing timezone:  UTC\n",
       "H2O cluster version:        3.26.0.2\n",
       "H2O cluster version age:    27 days\n",
       "H2O cluster name:           H2O_from_python_unknownUser_6inr6x\n",
       "H2O cluster total nodes:    1\n",
       "H2O cluster free memory:    10.67 Gb\n",
       "H2O cluster total cores:    4\n",
       "H2O cluster allowed cores:  4\n",
       "H2O cluster status:         accepting new members, healthy\n",
       "H2O connection url:         http://127.0.0.1:54321\n",
       "H2O connection proxy:\n",
       "H2O internal security:      False\n",
       "H2O API Extensions:         Amazon S3, XGBoost, Algos, AutoML, Core V3, Core V4\n",
       "Python version:             3.6.6 final\n",
       "--------------------------  ---------------------------------------------------"
      ]
     },
     "metadata": {},
     "output_type": "display_data"
    }
   ],
   "source": [
    "import h2o\n",
    "print(h2o.__version__)\n",
    "from h2o.automl import H2OAutoML\n",
    "h2o.init(max_mem_size='12G')"
   ]
  },
  {
   "cell_type": "code",
   "execution_count": 3,
   "metadata": {
    "_cell_guid": "79c7e3d0-c299-4dcb-8224-4455121ee9b0",
    "_uuid": "d629ff2d2480ee46fbb7e2d37f6b5fab8052498a"
   },
   "outputs": [
    {
     "name": "stdout",
     "output_type": "stream",
     "text": [
      "Parse progress: |█████████████████████████████████████████████████████████| 100%\n",
      "Parse progress: |█████████████████████████████████████████████████████████| 100%\n"
     ]
    }
   ],
   "source": [
    "X_train=h2o.import_file(\"../input/house-prices-advanced-regression-techniques/train.csv\")\n",
    "X_test=h2o.import_file(\"../input/house-prices-advanced-regression-techniques/test.csv\")"
   ]
  },
  {
   "cell_type": "code",
   "execution_count": 4,
   "metadata": {},
   "outputs": [],
   "source": [
    "for f in X_train.columns:\n",
    "    if X_train[f].columns_by_type(coltype='categorical'): \n",
    "        X_train[f]=X_train[f].asfactor()"
   ]
  },
  {
   "cell_type": "code",
   "execution_count": 5,
   "metadata": {},
   "outputs": [],
   "source": [
    "for f in X_test.columns:\n",
    "    if X_test[f].columns_by_type(coltype='categorical'): \n",
    "        X_test[f]=X_test[f].asfactor()"
   ]
  },
  {
   "cell_type": "code",
   "execution_count": 6,
   "metadata": {},
   "outputs": [
    {
     "ename": "SyntaxError",
     "evalue": "invalid syntax (<ipython-input-6-398f68191d6f>, line 1)",
     "output_type": "error",
     "traceback": [
      "\u001b[0;36m  File \u001b[0;32m\"<ipython-input-6-398f68191d6f>\"\u001b[0;36m, line \u001b[0;32m1\u001b[0m\n\u001b[0;31m    X_train = X_train.fillna((method=\"forward\",axis=0,maxlen=1)\u001b[0m\n\u001b[0m                                    ^\u001b[0m\n\u001b[0;31mSyntaxError\u001b[0m\u001b[0;31m:\u001b[0m invalid syntax\n"
     ]
    }
   ],
   "source": [
    "X_train = X_train.fillna((method=\"forward\",axis=0,maxlen=1)\n",
    "X_test = X_test.fillna((method=\"forward\",axis=0,maxlen=1)"
   ]
  },
  {
   "cell_type": "code",
   "execution_count": 7,
   "metadata": {},
   "outputs": [],
   "source": [
    "a=X_train.drop(['SalePrice'], axis=1)\n",
    "x=a.columns[1:]\n",
    "y='SalePrice'"
   ]
  },
  {
   "cell_type": "code",
   "execution_count": 8,
   "metadata": {},
   "outputs": [
    {
     "name": "stdout",
     "output_type": "stream",
     "text": [
      "AutoML progress: |████████████████████████████████████████████████████████| 100%\n",
      "CPU times: user 4.41 s, sys: 520 ms, total: 4.93 s\n",
      "Wall time: 12min 52s\n"
     ]
    }
   ],
   "source": [
    "%%time\n",
    "aml = H2OAutoML(max_models=30, seed=23, max_runtime_secs=30000)\n",
    "aml.train(x=x, y=y, training_frame=X_train)"
   ]
  },
  {
   "cell_type": "code",
   "execution_count": 9,
   "metadata": {},
   "outputs": [
    {
     "name": "stdout",
     "output_type": "stream",
     "text": [
      "CPU times: user 4 ms, sys: 4 ms, total: 8 ms\n",
      "Wall time: 10.3 ms\n"
     ]
    },
    {
     "data": {
      "text/html": [
       "<table>\n",
       "<thead>\n",
       "<tr><th>model_id                                           </th><th style=\"text-align: right;\">  mean_residual_deviance</th><th style=\"text-align: right;\">   rmse</th><th style=\"text-align: right;\">        mse</th><th style=\"text-align: right;\">    mae</th><th style=\"text-align: right;\">   rmsle</th></tr>\n",
       "</thead>\n",
       "<tbody>\n",
       "<tr><td>GBM_grid_1_AutoML_20190823_050900_model_1          </td><td style=\"text-align: right;\">             7.30082e+08</td><td style=\"text-align: right;\">27020  </td><td style=\"text-align: right;\">7.30082e+08</td><td style=\"text-align: right;\">15492.8</td><td style=\"text-align: right;\">0.13008 </td></tr>\n",
       "<tr><td>GBM_grid_1_AutoML_20190823_050900_model_4          </td><td style=\"text-align: right;\">             7.62235e+08</td><td style=\"text-align: right;\">27608.6</td><td style=\"text-align: right;\">7.62235e+08</td><td style=\"text-align: right;\">15965.2</td><td style=\"text-align: right;\">0.132491</td></tr>\n",
       "<tr><td>XGBoost_2_AutoML_20190823_050900                   </td><td style=\"text-align: right;\">             7.89608e+08</td><td style=\"text-align: right;\">28100  </td><td style=\"text-align: right;\">7.89608e+08</td><td style=\"text-align: right;\">15775.5</td><td style=\"text-align: right;\">0.131364</td></tr>\n",
       "<tr><td>XGBoost_grid_1_AutoML_20190823_050900_model_9      </td><td style=\"text-align: right;\">             8.01814e+08</td><td style=\"text-align: right;\">28316.3</td><td style=\"text-align: right;\">8.01814e+08</td><td style=\"text-align: right;\">15979.1</td><td style=\"text-align: right;\">0.133424</td></tr>\n",
       "<tr><td>XGBoost_grid_1_AutoML_20190823_050900_model_5      </td><td style=\"text-align: right;\">             8.07243e+08</td><td style=\"text-align: right;\">28412  </td><td style=\"text-align: right;\">8.07243e+08</td><td style=\"text-align: right;\">16167.6</td><td style=\"text-align: right;\">0.134804</td></tr>\n",
       "<tr><td>GBM_3_AutoML_20190823_050900                       </td><td style=\"text-align: right;\">             8.13421e+08</td><td style=\"text-align: right;\">28520.5</td><td style=\"text-align: right;\">8.13421e+08</td><td style=\"text-align: right;\">16000.9</td><td style=\"text-align: right;\">0.133698</td></tr>\n",
       "<tr><td>GBM_2_AutoML_20190823_050900                       </td><td style=\"text-align: right;\">             8.15422e+08</td><td style=\"text-align: right;\">28555.6</td><td style=\"text-align: right;\">8.15422e+08</td><td style=\"text-align: right;\">16381.4</td><td style=\"text-align: right;\">0.136654</td></tr>\n",
       "<tr><td>GBM_4_AutoML_20190823_050900                       </td><td style=\"text-align: right;\">             8.18389e+08</td><td style=\"text-align: right;\">28607.5</td><td style=\"text-align: right;\">8.18389e+08</td><td style=\"text-align: right;\">16324.6</td><td style=\"text-align: right;\">0.135803</td></tr>\n",
       "<tr><td>XGBoost_grid_1_AutoML_20190823_050900_model_7      </td><td style=\"text-align: right;\">             8.30242e+08</td><td style=\"text-align: right;\">28813.9</td><td style=\"text-align: right;\">8.30242e+08</td><td style=\"text-align: right;\">15770.2</td><td style=\"text-align: right;\">0.133038</td></tr>\n",
       "<tr><td>XGBoost_1_AutoML_20190823_050900                   </td><td style=\"text-align: right;\">             8.32949e+08</td><td style=\"text-align: right;\">28860.9</td><td style=\"text-align: right;\">8.32949e+08</td><td style=\"text-align: right;\">15793.2</td><td style=\"text-align: right;\">0.132981</td></tr>\n",
       "<tr><td>XGBoost_grid_1_AutoML_20190823_050900_model_3      </td><td style=\"text-align: right;\">             8.35355e+08</td><td style=\"text-align: right;\">28902.5</td><td style=\"text-align: right;\">8.35355e+08</td><td style=\"text-align: right;\">15744.1</td><td style=\"text-align: right;\">0.132142</td></tr>\n",
       "<tr><td>GBM_1_AutoML_20190823_050900                       </td><td style=\"text-align: right;\">             8.41526e+08</td><td style=\"text-align: right;\">29009.1</td><td style=\"text-align: right;\">8.41526e+08</td><td style=\"text-align: right;\">16301.7</td><td style=\"text-align: right;\">0.135803</td></tr>\n",
       "<tr><td>XGBoost_grid_1_AutoML_20190823_050900_model_6      </td><td style=\"text-align: right;\">             8.43715e+08</td><td style=\"text-align: right;\">29046.8</td><td style=\"text-align: right;\">8.43715e+08</td><td style=\"text-align: right;\">16618.6</td><td style=\"text-align: right;\">0.138736</td></tr>\n",
       "<tr><td>DeepLearning_grid_1_AutoML_20190823_050900_model_3 </td><td style=\"text-align: right;\">             8.59457e+08</td><td style=\"text-align: right;\">29316.5</td><td style=\"text-align: right;\">8.59457e+08</td><td style=\"text-align: right;\">16559.5</td><td style=\"text-align: right;\">0.139842</td></tr>\n",
       "<tr><td>XGBoost_grid_1_AutoML_20190823_050900_model_2      </td><td style=\"text-align: right;\">             8.59924e+08</td><td style=\"text-align: right;\">29324.5</td><td style=\"text-align: right;\">8.59924e+08</td><td style=\"text-align: right;\">15809.4</td><td style=\"text-align: right;\">0.133977</td></tr>\n",
       "<tr><td>DeepLearning_grid_1_AutoML_20190823_050900_model_4 </td><td style=\"text-align: right;\">             8.59963e+08</td><td style=\"text-align: right;\">29325.1</td><td style=\"text-align: right;\">8.59963e+08</td><td style=\"text-align: right;\">16961.5</td><td style=\"text-align: right;\">0.144838</td></tr>\n",
       "<tr><td>XGBoost_grid_1_AutoML_20190823_050900_model_4      </td><td style=\"text-align: right;\">             8.60324e+08</td><td style=\"text-align: right;\">29331.3</td><td style=\"text-align: right;\">8.60324e+08</td><td style=\"text-align: right;\">16658.6</td><td style=\"text-align: right;\">0.139594</td></tr>\n",
       "<tr><td>XGBoost_grid_1_AutoML_20190823_050900_model_8      </td><td style=\"text-align: right;\">             8.63724e+08</td><td style=\"text-align: right;\">29389.2</td><td style=\"text-align: right;\">8.63724e+08</td><td style=\"text-align: right;\">16728.8</td><td style=\"text-align: right;\">0.139262</td></tr>\n",
       "<tr><td>XRT_1_AutoML_20190823_050900                       </td><td style=\"text-align: right;\">             8.7517e+08 </td><td style=\"text-align: right;\">29583.3</td><td style=\"text-align: right;\">8.7517e+08 </td><td style=\"text-align: right;\">16952.7</td><td style=\"text-align: right;\">0.14341 </td></tr>\n",
       "<tr><td>XGBoost_3_AutoML_20190823_050900                   </td><td style=\"text-align: right;\">             8.86473e+08</td><td style=\"text-align: right;\">29773.7</td><td style=\"text-align: right;\">8.86473e+08</td><td style=\"text-align: right;\">16061.6</td><td style=\"text-align: right;\">0.13558 </td></tr>\n",
       "<tr><td>DeepLearning_1_AutoML_20190823_050900              </td><td style=\"text-align: right;\">             8.93042e+08</td><td style=\"text-align: right;\">29883.8</td><td style=\"text-align: right;\">8.93042e+08</td><td style=\"text-align: right;\">17430.2</td><td style=\"text-align: right;\">0.143921</td></tr>\n",
       "<tr><td>DRF_1_AutoML_20190823_050900                       </td><td style=\"text-align: right;\">             9.35416e+08</td><td style=\"text-align: right;\">30584.6</td><td style=\"text-align: right;\">9.35416e+08</td><td style=\"text-align: right;\">17085  </td><td style=\"text-align: right;\">0.143284</td></tr>\n",
       "<tr><td>GBM_5_AutoML_20190823_050900                       </td><td style=\"text-align: right;\">             9.70019e+08</td><td style=\"text-align: right;\">31145.1</td><td style=\"text-align: right;\">9.70019e+08</td><td style=\"text-align: right;\">18457.3</td><td style=\"text-align: right;\">0.148149</td></tr>\n",
       "<tr><td>GBM_grid_1_AutoML_20190823_050900_model_2          </td><td style=\"text-align: right;\">             1.07057e+09</td><td style=\"text-align: right;\">32719.6</td><td style=\"text-align: right;\">1.07057e+09</td><td style=\"text-align: right;\">21156  </td><td style=\"text-align: right;\">0.167618</td></tr>\n",
       "<tr><td>GBM_grid_1_AutoML_20190823_050900_model_3          </td><td style=\"text-align: right;\">             1.12423e+09</td><td style=\"text-align: right;\">33529.6</td><td style=\"text-align: right;\">1.12423e+09</td><td style=\"text-align: right;\">20286.8</td><td style=\"text-align: right;\">0.165961</td></tr>\n",
       "<tr><td>XGBoost_grid_1_AutoML_20190823_050900_model_1      </td><td style=\"text-align: right;\">             1.1476e+09 </td><td style=\"text-align: right;\">33876.2</td><td style=\"text-align: right;\">1.1476e+09 </td><td style=\"text-align: right;\">19143.9</td><td style=\"text-align: right;\">0.155232</td></tr>\n",
       "<tr><td>DeepLearning_grid_1_AutoML_20190823_050900_model_2 </td><td style=\"text-align: right;\">             1.18567e+09</td><td style=\"text-align: right;\">34433.6</td><td style=\"text-align: right;\">1.18567e+09</td><td style=\"text-align: right;\">16390.9</td><td style=\"text-align: right;\">0.141426</td></tr>\n",
       "<tr><td>DeepLearning_grid_1_AutoML_20190823_050900_model_1 </td><td style=\"text-align: right;\">             1.58481e+09</td><td style=\"text-align: right;\">39809.6</td><td style=\"text-align: right;\">1.58481e+09</td><td style=\"text-align: right;\">16094.8</td><td style=\"text-align: right;\">0.140604</td></tr>\n",
       "<tr><td>StackedEnsemble_AllModels_AutoML_20190823_050900   </td><td style=\"text-align: right;\">             4.04871e+09</td><td style=\"text-align: right;\">63629.5</td><td style=\"text-align: right;\">4.04871e+09</td><td style=\"text-align: right;\">45266.1</td><td style=\"text-align: right;\">0.327837</td></tr>\n",
       "<tr><td>StackedEnsemble_BestOfFamily_AutoML_20190823_050900</td><td style=\"text-align: right;\">             5.77271e+09</td><td style=\"text-align: right;\">75978.4</td><td style=\"text-align: right;\">5.77271e+09</td><td style=\"text-align: right;\">54784.4</td><td style=\"text-align: right;\">0.389778</td></tr>\n",
       "<tr><td>GBM_grid_1_AutoML_20190823_050900_model_5          </td><td style=\"text-align: right;\">             6.04024e+09</td><td style=\"text-align: right;\">77719  </td><td style=\"text-align: right;\">6.04024e+09</td><td style=\"text-align: right;\">56095.5</td><td style=\"text-align: right;\">0.398762</td></tr>\n",
       "<tr><td>GLM_grid_1_AutoML_20190823_050900_model_1          </td><td style=\"text-align: right;\">             6.3131e+09 </td><td style=\"text-align: right;\">79455  </td><td style=\"text-align: right;\">6.3131e+09 </td><td style=\"text-align: right;\">57444.3</td><td style=\"text-align: right;\">0.407765</td></tr>\n",
       "</tbody>\n",
       "</table>"
      ]
     },
     "metadata": {},
     "output_type": "display_data"
    },
    {
     "data": {
      "text/plain": []
     },
     "execution_count": 9,
     "metadata": {},
     "output_type": "execute_result"
    }
   ],
   "source": [
    "%%time\n",
    "lb = aml.leaderboard\n",
    "lb.head(rows=lb.nrows) "
   ]
  },
  {
   "cell_type": "code",
   "execution_count": 10,
   "metadata": {},
   "outputs": [
    {
     "name": "stdout",
     "output_type": "stream",
     "text": [
      "CPU times: user 4 ms, sys: 8 ms, total: 12 ms\n",
      "Wall time: 19.5 ms\n",
      "Model Details\n",
      "=============\n",
      "H2OGradientBoostingEstimator :  Gradient Boosting Machine\n",
      "Model Key:  GBM_grid_1_AutoML_20190823_050900_model_1\n",
      "\n",
      "Model Summary: \n"
     ]
    },
    {
     "data": {
      "text/html": [
       "<div style=\"overflow:auto\"><table style=\"width:50%\"><tr><td><b></b></td>\n",
       "<td><b>number_of_trees</b></td>\n",
       "<td><b>number_of_internal_trees</b></td>\n",
       "<td><b>model_size_in_bytes</b></td>\n",
       "<td><b>min_depth</b></td>\n",
       "<td><b>max_depth</b></td>\n",
       "<td><b>mean_depth</b></td>\n",
       "<td><b>min_leaves</b></td>\n",
       "<td><b>max_leaves</b></td>\n",
       "<td><b>mean_leaves</b></td></tr>\n",
       "<tr><td></td>\n",
       "<td>100.0</td>\n",
       "<td>100.0</td>\n",
       "<td>88133.0</td>\n",
       "<td>9.0</td>\n",
       "<td>14.0</td>\n",
       "<td>13.01</td>\n",
       "<td>24.0</td>\n",
       "<td>79.0</td>\n",
       "<td>65.15</td></tr></table></div>"
      ],
      "text/plain": [
       "    number_of_trees    number_of_internal_trees    model_size_in_bytes    min_depth    max_depth    mean_depth    min_leaves    max_leaves    mean_leaves\n",
       "--  -----------------  --------------------------  ---------------------  -----------  -----------  ------------  ------------  ------------  -------------\n",
       "    100                100                         88133                  9            14           13.01         24            79            65.15"
      ]
     },
     "metadata": {},
     "output_type": "display_data"
    },
    {
     "name": "stdout",
     "output_type": "stream",
     "text": [
      "\n",
      "\n",
      "ModelMetricsRegression: gbm\n",
      "** Reported on train data. **\n",
      "\n",
      "MSE: 161689325.96764252\n",
      "RMSE: 12715.711775895305\n",
      "MAE: 6300.096792059076\n",
      "RMSLE: 0.05968794530406137\n",
      "Mean Residual Deviance: 161689325.96764252\n",
      "\n",
      "ModelMetricsRegression: gbm\n",
      "** Reported on cross-validation data. **\n",
      "\n",
      "MSE: 730081866.0308942\n",
      "RMSE: 27020.027128611364\n",
      "MAE: 15492.847374139037\n",
      "RMSLE: 0.1300796764166922\n",
      "Mean Residual Deviance: 730081866.0308942\n",
      "Cross-Validation Metrics Summary: \n"
     ]
    },
    {
     "data": {
      "text/html": [
       "<div style=\"overflow:auto\"><table style=\"width:50%\"><tr><td><b></b></td>\n",
       "<td><b>mean</b></td>\n",
       "<td><b>sd</b></td>\n",
       "<td><b>cv_1_valid</b></td>\n",
       "<td><b>cv_2_valid</b></td>\n",
       "<td><b>cv_3_valid</b></td>\n",
       "<td><b>cv_4_valid</b></td>\n",
       "<td><b>cv_5_valid</b></td></tr>\n",
       "<tr><td>mae</td>\n",
       "<td>15492.848</td>\n",
       "<td>1449.6783</td>\n",
       "<td>13702.31</td>\n",
       "<td>14860.666</td>\n",
       "<td>15243.847</td>\n",
       "<td>19453.488</td>\n",
       "<td>14203.926</td></tr>\n",
       "<tr><td>mean_residual_deviance</td>\n",
       "<td>730081860.0000000</td>\n",
       "<td>276284992.0000000</td>\n",
       "<td>394725376.0000000</td>\n",
       "<td>643180670.0000000</td>\n",
       "<td>601244480.0000000</td>\n",
       "<td>1492900480.0000000</td>\n",
       "<td>518358272.0000000</td></tr>\n",
       "<tr><td>mse</td>\n",
       "<td>730081860.0000000</td>\n",
       "<td>276284992.0000000</td>\n",
       "<td>394725376.0000000</td>\n",
       "<td>643180670.0000000</td>\n",
       "<td>601244480.0000000</td>\n",
       "<td>1492900480.0000000</td>\n",
       "<td>518358272.0000000</td></tr>\n",
       "<tr><td>r2</td>\n",
       "<td>0.8895591</td>\n",
       "<td>0.0284340</td>\n",
       "<td>0.9265866</td>\n",
       "<td>0.8984937</td>\n",
       "<td>0.9011716</td>\n",
       "<td>0.8115692</td>\n",
       "<td>0.9099746</td></tr>\n",
       "<tr><td>residual_deviance</td>\n",
       "<td>730081860.0000000</td>\n",
       "<td>276284992.0000000</td>\n",
       "<td>394725376.0000000</td>\n",
       "<td>643180670.0000000</td>\n",
       "<td>601244480.0000000</td>\n",
       "<td>1492900480.0000000</td>\n",
       "<td>518358272.0000000</td></tr>\n",
       "<tr><td>rmse</td>\n",
       "<td>26230.908</td>\n",
       "<td>4583.7363</td>\n",
       "<td>19867.697</td>\n",
       "<td>25361.008</td>\n",
       "<td>24520.287</td>\n",
       "<td>38638.07</td>\n",
       "<td>22767.482</td></tr>\n",
       "<tr><td>rmsle</td>\n",
       "<td>0.1287858</td>\n",
       "<td>0.0129412</td>\n",
       "<td>0.1269947</td>\n",
       "<td>0.1139625</td>\n",
       "<td>0.1308635</td>\n",
       "<td>0.1619562</td>\n",
       "<td>0.1101519</td></tr></table></div>"
      ],
      "text/plain": [
       "                        mean         sd           cv_1_valid    cv_2_valid    cv_3_valid    cv_4_valid    cv_5_valid\n",
       "----------------------  -----------  -----------  ------------  ------------  ------------  ------------  ------------\n",
       "mae                     15492.8      1449.68      13702.3       14860.7       15243.8       19453.5       14203.9\n",
       "mean_residual_deviance  7.30082e+08  2.76285e+08  3.94725e+08   6.43181e+08   6.01244e+08   1.4929e+09    5.18358e+08\n",
       "mse                     7.30082e+08  2.76285e+08  3.94725e+08   6.43181e+08   6.01244e+08   1.4929e+09    5.18358e+08\n",
       "r2                      0.889559     0.028434     0.926587      0.898494      0.901172      0.811569      0.909975\n",
       "residual_deviance       7.30082e+08  2.76285e+08  3.94725e+08   6.43181e+08   6.01244e+08   1.4929e+09    5.18358e+08\n",
       "rmse                    26230.9      4583.74      19867.7       25361         24520.3       38638.1       22767.5\n",
       "rmsle                   0.128786     0.0129412    0.126995      0.113963      0.130863      0.161956      0.110152"
      ]
     },
     "metadata": {},
     "output_type": "display_data"
    },
    {
     "name": "stdout",
     "output_type": "stream",
     "text": [
      "Scoring History: \n"
     ]
    },
    {
     "data": {
      "text/html": [
       "<div style=\"overflow:auto\"><table style=\"width:50%\"><tr><td><b></b></td>\n",
       "<td><b>timestamp</b></td>\n",
       "<td><b>duration</b></td>\n",
       "<td><b>number_of_trees</b></td>\n",
       "<td><b>training_rmse</b></td>\n",
       "<td><b>training_mae</b></td>\n",
       "<td><b>training_deviance</b></td></tr>\n",
       "<tr><td></td>\n",
       "<td>2019-08-23 05:13:30</td>\n",
       "<td> 6.952 sec</td>\n",
       "<td>0.0</td>\n",
       "<td>79415.2918861</td>\n",
       "<td>57434.7702758</td>\n",
       "<td>6306788585.3492975</td></tr>\n",
       "<tr><td></td>\n",
       "<td>2019-08-23 05:13:31</td>\n",
       "<td> 7.043 sec</td>\n",
       "<td>5.0</td>\n",
       "<td>64441.4255212</td>\n",
       "<td>45797.0140197</td>\n",
       "<td>4152697323.2052960</td></tr>\n",
       "<tr><td></td>\n",
       "<td>2019-08-23 05:13:31</td>\n",
       "<td> 7.138 sec</td>\n",
       "<td>10.0</td>\n",
       "<td>52904.5510289</td>\n",
       "<td>36834.3261130</td>\n",
       "<td>2798891519.5645838</td></tr>\n",
       "<tr><td></td>\n",
       "<td>2019-08-23 05:13:31</td>\n",
       "<td> 7.228 sec</td>\n",
       "<td>15.0</td>\n",
       "<td>44201.6191349</td>\n",
       "<td>29875.4150150</td>\n",
       "<td>1953783134.1500762</td></tr>\n",
       "<tr><td></td>\n",
       "<td>2019-08-23 05:13:31</td>\n",
       "<td> 7.323 sec</td>\n",
       "<td>20.0</td>\n",
       "<td>37486.4256663</td>\n",
       "<td>24503.3798587</td>\n",
       "<td>1405232109.2354522</td></tr>\n",
       "<tr><td>---</td>\n",
       "<td>---</td>\n",
       "<td>---</td>\n",
       "<td>---</td>\n",
       "<td>---</td>\n",
       "<td>---</td>\n",
       "<td>---</td></tr>\n",
       "<tr><td></td>\n",
       "<td>2019-08-23 05:13:32</td>\n",
       "<td> 8.488 sec</td>\n",
       "<td>80.0</td>\n",
       "<td>14425.9173366</td>\n",
       "<td>7103.9174952</td>\n",
       "<td>208107091.0029863</td></tr>\n",
       "<tr><td></td>\n",
       "<td>2019-08-23 05:13:32</td>\n",
       "<td> 8.573 sec</td>\n",
       "<td>85.0</td>\n",
       "<td>13976.9488002</td>\n",
       "<td>6852.0530153</td>\n",
       "<td>195355097.7627993</td></tr>\n",
       "<tr><td></td>\n",
       "<td>2019-08-23 05:13:32</td>\n",
       "<td> 8.656 sec</td>\n",
       "<td>90.0</td>\n",
       "<td>13517.0810649</td>\n",
       "<td>6625.4337302</td>\n",
       "<td>182711480.5156260</td></tr>\n",
       "<tr><td></td>\n",
       "<td>2019-08-23 05:13:32</td>\n",
       "<td> 8.739 sec</td>\n",
       "<td>95.0</td>\n",
       "<td>13095.0082228</td>\n",
       "<td>6456.0130966</td>\n",
       "<td>171479240.3561597</td></tr>\n",
       "<tr><td></td>\n",
       "<td>2019-08-23 05:13:32</td>\n",
       "<td> 8.819 sec</td>\n",
       "<td>100.0</td>\n",
       "<td>12715.7117759</td>\n",
       "<td>6300.0967921</td>\n",
       "<td>161689325.9676425</td></tr></table></div>"
      ],
      "text/plain": [
       "     timestamp            duration    number_of_trees    training_rmse       training_mae        training_deviance\n",
       "---  -------------------  ----------  -----------------  ------------------  ------------------  -------------------\n",
       "     2019-08-23 05:13:30  6.952 sec   0.0                79415.2918860675    57434.77027584911   6306788585.349298\n",
       "     2019-08-23 05:13:31  7.043 sec   5.0                64441.42552120721   45797.01401969178   4152697323.205296\n",
       "     2019-08-23 05:13:31  7.138 sec   10.0               52904.55102885369   36834.326113013696  2798891519.564584\n",
       "     2019-08-23 05:13:31  7.228 sec   15.0               44201.61913493754   29875.41501498288   1953783134.1500762\n",
       "     2019-08-23 05:13:31  7.323 sec   20.0               37486.42566630556   24503.37985873288   1405232109.2354522\n",
       "---  ---                  ---         ---                ---                 ---                 ---\n",
       "     2019-08-23 05:13:32  8.488 sec   80.0               14425.91733661975   7103.917495184075   208107091.00298628\n",
       "     2019-08-23 05:13:32  8.573 sec   85.0               13976.948800178076  6852.053015303938   195355097.76279932\n",
       "     2019-08-23 05:13:32  8.656 sec   90.0               13517.081064920265  6625.433730201199   182711480.51562595\n",
       "     2019-08-23 05:13:32  8.739 sec   95.0               13095.008222836661  6456.0130966395545  171479240.35615975\n",
       "     2019-08-23 05:13:32  8.819 sec   100.0              12715.711775895305  6300.096792059076   161689325.96764252"
      ]
     },
     "metadata": {},
     "output_type": "display_data"
    },
    {
     "name": "stdout",
     "output_type": "stream",
     "text": [
      "\n",
      "See the whole table with table.as_data_frame()\n",
      "Variable Importances: \n"
     ]
    },
    {
     "data": {
      "text/html": [
       "<div style=\"overflow:auto\"><table style=\"width:50%\"><tr><td><b>variable</b></td>\n",
       "<td><b>relative_importance</b></td>\n",
       "<td><b>scaled_importance</b></td>\n",
       "<td><b>percentage</b></td></tr>\n",
       "<tr><td>OverallQual</td>\n",
       "<td>19440622108672.0000000</td>\n",
       "<td>1.0</td>\n",
       "<td>0.2114805</td></tr>\n",
       "<tr><td>ExterQual</td>\n",
       "<td>10115323265024.0000000</td>\n",
       "<td>0.5203189</td>\n",
       "<td>0.1100373</td></tr>\n",
       "<tr><td>GrLivArea</td>\n",
       "<td>9966324809728.0000000</td>\n",
       "<td>0.5126546</td>\n",
       "<td>0.1084165</td></tr>\n",
       "<tr><td>Neighborhood</td>\n",
       "<td>8954364035072.0000000</td>\n",
       "<td>0.4606007</td>\n",
       "<td>0.0974081</td></tr>\n",
       "<tr><td>GarageCars</td>\n",
       "<td>7506320949248.0000000</td>\n",
       "<td>0.3861153</td>\n",
       "<td>0.0816559</td></tr>\n",
       "<tr><td>---</td>\n",
       "<td>---</td>\n",
       "<td>---</td>\n",
       "<td>---</td></tr>\n",
       "<tr><td>Heating</td>\n",
       "<td>0.0</td>\n",
       "<td>0.0</td>\n",
       "<td>0.0</td></tr>\n",
       "<tr><td>PoolArea</td>\n",
       "<td>0.0</td>\n",
       "<td>0.0</td>\n",
       "<td>0.0</td></tr>\n",
       "<tr><td>PoolQC</td>\n",
       "<td>0.0</td>\n",
       "<td>0.0</td>\n",
       "<td>0.0</td></tr>\n",
       "<tr><td>MiscFeature</td>\n",
       "<td>0.0</td>\n",
       "<td>0.0</td>\n",
       "<td>0.0</td></tr>\n",
       "<tr><td>MiscVal</td>\n",
       "<td>0.0</td>\n",
       "<td>0.0</td>\n",
       "<td>0.0</td></tr></table></div>"
      ],
      "text/plain": [
       "variable      relative_importance    scaled_importance    percentage\n",
       "------------  ---------------------  -------------------  -------------------\n",
       "OverallQual   19440622108672.0       1.0                  0.21148051330633358\n",
       "ExterQual     10115323265024.0       0.520318907927941    0.11003730973159188\n",
       "GrLivArea     9966324809728.0        0.5126546236029278   0.1084164629484124\n",
       "Neighborhood  8954364035072.0        0.46060069400133397  0.0974080711966556\n",
       "GarageCars    7506320949248.0        0.38611526458814344  0.08165585435051138\n",
       "---           ---                    ---                  ---\n",
       "Heating       0.0                    0.0                  0.0\n",
       "PoolArea      0.0                    0.0                  0.0\n",
       "PoolQC        0.0                    0.0                  0.0\n",
       "MiscFeature   0.0                    0.0                  0.0\n",
       "MiscVal       0.0                    0.0                  0.0"
      ]
     },
     "metadata": {},
     "output_type": "display_data"
    },
    {
     "name": "stdout",
     "output_type": "stream",
     "text": [
      "\n",
      "See the whole table with table.as_data_frame()\n"
     ]
    },
    {
     "data": {
      "text/plain": []
     },
     "execution_count": 10,
     "metadata": {},
     "output_type": "execute_result"
    }
   ],
   "source": [
    "%%time\n",
    "aml.leader"
   ]
  },
  {
   "cell_type": "code",
   "execution_count": 11,
   "metadata": {},
   "outputs": [
    {
     "name": "stdout",
     "output_type": "stream",
     "text": [
      "gbm prediction progress: |████████████████████████████████████████████████| 100%\n"
     ]
    },
    {
     "name": "stderr",
     "output_type": "stream",
     "text": [
      "/opt/conda/lib/python3.6/site-packages/h2o/job.py:70: UserWarning: Test/Validation dataset column 'MSZoning' has levels not trained on: [NA]\n",
      "  warnings.warn(w)\n",
      "/opt/conda/lib/python3.6/site-packages/h2o/job.py:70: UserWarning: Test/Validation dataset column 'Utilities' has levels not trained on: [NA]\n",
      "  warnings.warn(w)\n",
      "/opt/conda/lib/python3.6/site-packages/h2o/job.py:70: UserWarning: Test/Validation dataset column 'Exterior1st' has levels not trained on: [NA]\n",
      "  warnings.warn(w)\n",
      "/opt/conda/lib/python3.6/site-packages/h2o/job.py:70: UserWarning: Test/Validation dataset column 'Exterior2nd' has levels not trained on: [NA]\n",
      "  warnings.warn(w)\n",
      "/opt/conda/lib/python3.6/site-packages/h2o/job.py:70: UserWarning: Test/Validation dataset column 'KitchenQual' has levels not trained on: [NA]\n",
      "  warnings.warn(w)\n",
      "/opt/conda/lib/python3.6/site-packages/h2o/job.py:70: UserWarning: Test/Validation dataset column 'Functional' has levels not trained on: [NA]\n",
      "  warnings.warn(w)\n",
      "/opt/conda/lib/python3.6/site-packages/h2o/job.py:70: UserWarning: Test/Validation dataset column 'SaleType' has levels not trained on: [NA]\n",
      "  warnings.warn(w)\n"
     ]
    },
    {
     "name": "stdout",
     "output_type": "stream",
     "text": [
      "CPU times: user 84 ms, sys: 12 ms, total: 96 ms\n",
      "Wall time: 327 ms\n"
     ]
    },
    {
     "data": {
      "text/html": [
       "<table>\n",
       "<thead>\n",
       "<tr><th style=\"text-align: right;\">  predict</th></tr>\n",
       "</thead>\n",
       "<tbody>\n",
       "<tr><td style=\"text-align: right;\">   124362</td></tr>\n",
       "<tr><td style=\"text-align: right;\">   155485</td></tr>\n",
       "<tr><td style=\"text-align: right;\">   178708</td></tr>\n",
       "<tr><td style=\"text-align: right;\">   191970</td></tr>\n",
       "<tr><td style=\"text-align: right;\">   182710</td></tr>\n",
       "<tr><td style=\"text-align: right;\">   179510</td></tr>\n",
       "<tr><td style=\"text-align: right;\">   173528</td></tr>\n",
       "<tr><td style=\"text-align: right;\">   173679</td></tr>\n",
       "<tr><td style=\"text-align: right;\">   180914</td></tr>\n",
       "<tr><td style=\"text-align: right;\">   126616</td></tr>\n",
       "</tbody>\n",
       "</table>"
      ]
     },
     "metadata": {},
     "output_type": "display_data"
    },
    {
     "data": {
      "text/plain": []
     },
     "execution_count": 11,
     "metadata": {},
     "output_type": "execute_result"
    }
   ],
   "source": [
    "%%time\n",
    "y_preds = aml.predict(X_test)\n",
    "y_preds.head(10)\n",
    "# y_preds['p1'].as_data_frame().values.flatten().shape"
   ]
  },
  {
   "cell_type": "code",
   "execution_count": 12,
   "metadata": {},
   "outputs": [
    {
     "name": "stderr",
     "output_type": "stream",
     "text": [
      "/opt/conda/lib/python3.6/site-packages/tensorflow/python/framework/dtypes.py:516: FutureWarning: Passing (type, 1) or '1type' as a synonym of type is deprecated; in a future version of numpy, it will be understood as (type, (1,)) / '(1,)type'.\n",
      "  _np_qint8 = np.dtype([(\"qint8\", np.int8, 1)])\n",
      "/opt/conda/lib/python3.6/site-packages/tensorflow/python/framework/dtypes.py:517: FutureWarning: Passing (type, 1) or '1type' as a synonym of type is deprecated; in a future version of numpy, it will be understood as (type, (1,)) / '(1,)type'.\n",
      "  _np_quint8 = np.dtype([(\"quint8\", np.uint8, 1)])\n",
      "/opt/conda/lib/python3.6/site-packages/tensorflow/python/framework/dtypes.py:518: FutureWarning: Passing (type, 1) or '1type' as a synonym of type is deprecated; in a future version of numpy, it will be understood as (type, (1,)) / '(1,)type'.\n",
      "  _np_qint16 = np.dtype([(\"qint16\", np.int16, 1)])\n",
      "/opt/conda/lib/python3.6/site-packages/tensorflow/python/framework/dtypes.py:519: FutureWarning: Passing (type, 1) or '1type' as a synonym of type is deprecated; in a future version of numpy, it will be understood as (type, (1,)) / '(1,)type'.\n",
      "  _np_quint16 = np.dtype([(\"quint16\", np.uint16, 1)])\n",
      "/opt/conda/lib/python3.6/site-packages/tensorflow/python/framework/dtypes.py:520: FutureWarning: Passing (type, 1) or '1type' as a synonym of type is deprecated; in a future version of numpy, it will be understood as (type, (1,)) / '(1,)type'.\n",
      "  _np_qint32 = np.dtype([(\"qint32\", np.int32, 1)])\n",
      "/opt/conda/lib/python3.6/site-packages/tensorflow/python/framework/dtypes.py:525: FutureWarning: Passing (type, 1) or '1type' as a synonym of type is deprecated; in a future version of numpy, it will be understood as (type, (1,)) / '(1,)type'.\n",
      "  np_resource = np.dtype([(\"resource\", np.ubyte, 1)])\n",
      "/opt/conda/lib/python3.6/site-packages/tensorboard/compat/tensorflow_stub/dtypes.py:541: FutureWarning: Passing (type, 1) or '1type' as a synonym of type is deprecated; in a future version of numpy, it will be understood as (type, (1,)) / '(1,)type'.\n",
      "  _np_qint8 = np.dtype([(\"qint8\", np.int8, 1)])\n",
      "/opt/conda/lib/python3.6/site-packages/tensorboard/compat/tensorflow_stub/dtypes.py:542: FutureWarning: Passing (type, 1) or '1type' as a synonym of type is deprecated; in a future version of numpy, it will be understood as (type, (1,)) / '(1,)type'.\n",
      "  _np_quint8 = np.dtype([(\"quint8\", np.uint8, 1)])\n",
      "/opt/conda/lib/python3.6/site-packages/tensorboard/compat/tensorflow_stub/dtypes.py:543: FutureWarning: Passing (type, 1) or '1type' as a synonym of type is deprecated; in a future version of numpy, it will be understood as (type, (1,)) / '(1,)type'.\n",
      "  _np_qint16 = np.dtype([(\"qint16\", np.int16, 1)])\n",
      "/opt/conda/lib/python3.6/site-packages/tensorboard/compat/tensorflow_stub/dtypes.py:544: FutureWarning: Passing (type, 1) or '1type' as a synonym of type is deprecated; in a future version of numpy, it will be understood as (type, (1,)) / '(1,)type'.\n",
      "  _np_quint16 = np.dtype([(\"quint16\", np.uint16, 1)])\n",
      "/opt/conda/lib/python3.6/site-packages/tensorboard/compat/tensorflow_stub/dtypes.py:545: FutureWarning: Passing (type, 1) or '1type' as a synonym of type is deprecated; in a future version of numpy, it will be understood as (type, (1,)) / '(1,)type'.\n",
      "  _np_qint32 = np.dtype([(\"qint32\", np.int32, 1)])\n",
      "/opt/conda/lib/python3.6/site-packages/tensorboard/compat/tensorflow_stub/dtypes.py:550: FutureWarning: Passing (type, 1) or '1type' as a synonym of type is deprecated; in a future version of numpy, it will be understood as (type, (1,)) / '(1,)type'.\n",
      "  np_resource = np.dtype([(\"resource\", np.ubyte, 1)])\n"
     ]
    },
    {
     "name": "stdout",
     "output_type": "stream",
     "text": [
      "CPU times: user 1.95 s, sys: 396 ms, total: 2.34 s\n",
      "Wall time: 5.34 s\n"
     ]
    }
   ],
   "source": [
    "%%time\n",
    "sample_submission = pd.read_csv('../input/house-prices-advanced-regression-techniques/sample_submission.csv')\n",
    "sample_submission['SalePrice'] = y_preds[:].as_data_frame().values\n",
    "sample_submission.to_csv('H2O_AutoML_submission_1.csv', index=False)"
   ]
  }
 ],
 "metadata": {
  "kernelspec": {
   "display_name": "Python 3",
   "language": "python",
   "name": "python3"
  },
  "language_info": {
   "codemirror_mode": {
    "name": "ipython",
    "version": 3
   },
   "file_extension": ".py",
   "mimetype": "text/x-python",
   "name": "python",
   "nbconvert_exporter": "python",
   "pygments_lexer": "ipython3",
   "version": "3.6.6"
  }
 },
 "nbformat": 4,
 "nbformat_minor": 1
}
