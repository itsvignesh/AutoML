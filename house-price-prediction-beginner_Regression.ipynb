{
 "cells": [
  {
   "cell_type": "code",
   "execution_count": 1,
   "metadata": {
    "_cell_guid": "b1076dfc-b9ad-4769-8c92-a6c4dae69d19",
    "_uuid": "8f2839f25d086af736a60e9eeb907d3b93b6e0e5"
   },
   "outputs": [
    {
     "name": "stdout",
     "output_type": "stream",
     "text": [
      "/kaggle/input/house-prices-advanced-regression-techniques/test.csv\n",
      "/kaggle/input/house-prices-advanced-regression-techniques/train.csv\n",
      "/kaggle/input/house-prices-advanced-regression-techniques/sample_submission.csv\n",
      "/kaggle/input/house-prices-advanced-regression-techniques/data_description.txt\n"
     ]
    }
   ],
   "source": [
    "# This Python 3 environment comes with many helpful analytics libraries installed\n",
    "# It is defined by the kaggle/python docker image: https://github.com/kaggle/docker-python\n",
    "# For example, here's several helpful packages to load in \n",
    "\n",
    "import numpy as np # linear algebra\n",
    "import pandas as pd # data processing, CSV file I/O (e.g. pd.read_csv)\n",
    "\n",
    "# Input data files are available in the \"../input/\" directory.\n",
    "# For example, running this (by clicking run or pressing Shift+Enter) will list all files under the input directory\n",
    "\n",
    "import os\n",
    "for dirname, _, filenames in os.walk('/kaggle/input'):\n",
    "    for filename in filenames:\n",
    "        print(os.path.join(dirname, filename))\n",
    "\n",
    "# Any results you write to the current directory are saved as output."
   ]
  },
  {
   "cell_type": "code",
   "execution_count": 2,
   "metadata": {},
   "outputs": [],
   "source": [
    "train = pd.read_csv(\"../input/house-prices-advanced-regression-techniques/train.csv\")\n",
    "test = pd.read_csv(\"../input/house-prices-advanced-regression-techniques/test.csv\")"
   ]
  },
  {
   "cell_type": "code",
   "execution_count": 3,
   "metadata": {},
   "outputs": [
    {
     "data": {
      "text/plain": [
       "((1460, 81), (1459, 80))"
      ]
     },
     "execution_count": 3,
     "metadata": {},
     "output_type": "execute_result"
    }
   ],
   "source": [
    "train.shape, test.shape"
   ]
  },
  {
   "cell_type": "code",
   "execution_count": 4,
   "metadata": {},
   "outputs": [],
   "source": [
    "train_id = train['Id']\n",
    "test_id = test['Id']\n",
    "\n",
    "train.drop(\"Id\", axis = 1, inplace = True)\n",
    "test.drop(\"Id\", axis = 1, inplace = True)"
   ]
  },
  {
   "cell_type": "code",
   "execution_count": 5,
   "metadata": {},
   "outputs": [
    {
     "name": "stdout",
     "output_type": "stream",
     "text": [
      "Index(['MSZoning', 'Street', 'Alley', 'LotShape', 'LandContour', 'Utilities',\n",
      "       'LotConfig', 'LandSlope', 'Neighborhood', 'Condition1', 'Condition2',\n",
      "       'BldgType', 'HouseStyle', 'RoofStyle', 'RoofMatl', 'Exterior1st',\n",
      "       'Exterior2nd', 'MasVnrType', 'ExterQual', 'ExterCond', 'Foundation',\n",
      "       'BsmtQual', 'BsmtCond', 'BsmtExposure', 'BsmtFinType1', 'BsmtFinType2',\n",
      "       'Heating', 'HeatingQC', 'CentralAir', 'Electrical', 'KitchenQual',\n",
      "       'Functional', 'FireplaceQu', 'GarageType', 'GarageFinish', 'GarageQual',\n",
      "       'GarageCond', 'PavedDrive', 'PoolQC', 'Fence', 'MiscFeature',\n",
      "       'SaleType', 'SaleCondition'],\n",
      "      dtype='object')\n",
      "Index(['MSSubClass', 'LotFrontage', 'LotArea', 'OverallQual', 'OverallCond',\n",
      "       'YearBuilt', 'YearRemodAdd', 'MasVnrArea', 'BsmtFinSF1', 'BsmtFinSF2',\n",
      "       'BsmtUnfSF', 'TotalBsmtSF', '1stFlrSF', '2ndFlrSF', 'LowQualFinSF',\n",
      "       'GrLivArea', 'BsmtFullBath', 'BsmtHalfBath', 'FullBath', 'HalfBath',\n",
      "       'BedroomAbvGr', 'KitchenAbvGr', 'TotRmsAbvGrd', 'Fireplaces',\n",
      "       'GarageYrBlt', 'GarageCars', 'GarageArea', 'WoodDeckSF', 'OpenPorchSF',\n",
      "       'EnclosedPorch', '3SsnPorch', 'ScreenPorch', 'PoolArea', 'MiscVal',\n",
      "       'MoSold', 'YrSold', 'SalePrice'],\n",
      "      dtype='object')\n"
     ]
    }
   ],
   "source": [
    "cat_features = train.select_dtypes(include = object).columns\n",
    "print (cat_features)\n",
    "num_features = train.select_dtypes(exclude = object).columns\n",
    "print (num_features)"
   ]
  },
  {
   "cell_type": "code",
   "execution_count": 6,
   "metadata": {},
   "outputs": [],
   "source": [
    "cat_cols = train.select_dtypes(include = object)\n",
    "num_cols = train.select_dtypes(exclude = object)"
   ]
  },
  {
   "cell_type": "code",
   "execution_count": 7,
   "metadata": {},
   "outputs": [
    {
     "name": "stdout",
     "output_type": "stream",
     "text": [
      "43 37\n"
     ]
    }
   ],
   "source": [
    "print(len(cat_features), len(num_features))"
   ]
  },
  {
   "cell_type": "code",
   "execution_count": 8,
   "metadata": {},
   "outputs": [],
   "source": [
    "# import seaborn as sns\n",
    "# sns.pairplot(num_cols)"
   ]
  },
  {
   "cell_type": "code",
   "execution_count": 9,
   "metadata": {},
   "outputs": [
    {
     "data": {
      "text/html": [
       "<div>\n",
       "<style scoped>\n",
       "    .dataframe tbody tr th:only-of-type {\n",
       "        vertical-align: middle;\n",
       "    }\n",
       "\n",
       "    .dataframe tbody tr th {\n",
       "        vertical-align: top;\n",
       "    }\n",
       "\n",
       "    .dataframe thead th {\n",
       "        text-align: right;\n",
       "    }\n",
       "</style>\n",
       "<table border=\"1\" class=\"dataframe\">\n",
       "  <thead>\n",
       "    <tr style=\"text-align: right;\">\n",
       "      <th></th>\n",
       "      <th>MSZoning</th>\n",
       "      <th>Street</th>\n",
       "      <th>Alley</th>\n",
       "      <th>LotShape</th>\n",
       "      <th>LandContour</th>\n",
       "      <th>Utilities</th>\n",
       "      <th>LotConfig</th>\n",
       "      <th>LandSlope</th>\n",
       "      <th>Neighborhood</th>\n",
       "      <th>Condition1</th>\n",
       "      <th>...</th>\n",
       "      <th>GarageType</th>\n",
       "      <th>GarageFinish</th>\n",
       "      <th>GarageQual</th>\n",
       "      <th>GarageCond</th>\n",
       "      <th>PavedDrive</th>\n",
       "      <th>PoolQC</th>\n",
       "      <th>Fence</th>\n",
       "      <th>MiscFeature</th>\n",
       "      <th>SaleType</th>\n",
       "      <th>SaleCondition</th>\n",
       "    </tr>\n",
       "  </thead>\n",
       "  <tbody>\n",
       "    <tr>\n",
       "      <th>count</th>\n",
       "      <td>1460</td>\n",
       "      <td>1460</td>\n",
       "      <td>91</td>\n",
       "      <td>1460</td>\n",
       "      <td>1460</td>\n",
       "      <td>1460</td>\n",
       "      <td>1460</td>\n",
       "      <td>1460</td>\n",
       "      <td>1460</td>\n",
       "      <td>1460</td>\n",
       "      <td>...</td>\n",
       "      <td>1379</td>\n",
       "      <td>1379</td>\n",
       "      <td>1379</td>\n",
       "      <td>1379</td>\n",
       "      <td>1460</td>\n",
       "      <td>7</td>\n",
       "      <td>281</td>\n",
       "      <td>54</td>\n",
       "      <td>1460</td>\n",
       "      <td>1460</td>\n",
       "    </tr>\n",
       "    <tr>\n",
       "      <th>unique</th>\n",
       "      <td>5</td>\n",
       "      <td>2</td>\n",
       "      <td>2</td>\n",
       "      <td>4</td>\n",
       "      <td>4</td>\n",
       "      <td>2</td>\n",
       "      <td>5</td>\n",
       "      <td>3</td>\n",
       "      <td>25</td>\n",
       "      <td>9</td>\n",
       "      <td>...</td>\n",
       "      <td>6</td>\n",
       "      <td>3</td>\n",
       "      <td>5</td>\n",
       "      <td>5</td>\n",
       "      <td>3</td>\n",
       "      <td>3</td>\n",
       "      <td>4</td>\n",
       "      <td>4</td>\n",
       "      <td>9</td>\n",
       "      <td>6</td>\n",
       "    </tr>\n",
       "    <tr>\n",
       "      <th>top</th>\n",
       "      <td>RL</td>\n",
       "      <td>Pave</td>\n",
       "      <td>Grvl</td>\n",
       "      <td>Reg</td>\n",
       "      <td>Lvl</td>\n",
       "      <td>AllPub</td>\n",
       "      <td>Inside</td>\n",
       "      <td>Gtl</td>\n",
       "      <td>NAmes</td>\n",
       "      <td>Norm</td>\n",
       "      <td>...</td>\n",
       "      <td>Attchd</td>\n",
       "      <td>Unf</td>\n",
       "      <td>TA</td>\n",
       "      <td>TA</td>\n",
       "      <td>Y</td>\n",
       "      <td>Gd</td>\n",
       "      <td>MnPrv</td>\n",
       "      <td>Shed</td>\n",
       "      <td>WD</td>\n",
       "      <td>Normal</td>\n",
       "    </tr>\n",
       "    <tr>\n",
       "      <th>freq</th>\n",
       "      <td>1151</td>\n",
       "      <td>1454</td>\n",
       "      <td>50</td>\n",
       "      <td>925</td>\n",
       "      <td>1311</td>\n",
       "      <td>1459</td>\n",
       "      <td>1052</td>\n",
       "      <td>1382</td>\n",
       "      <td>225</td>\n",
       "      <td>1260</td>\n",
       "      <td>...</td>\n",
       "      <td>870</td>\n",
       "      <td>605</td>\n",
       "      <td>1311</td>\n",
       "      <td>1326</td>\n",
       "      <td>1340</td>\n",
       "      <td>3</td>\n",
       "      <td>157</td>\n",
       "      <td>49</td>\n",
       "      <td>1267</td>\n",
       "      <td>1198</td>\n",
       "    </tr>\n",
       "  </tbody>\n",
       "</table>\n",
       "<p>4 rows × 43 columns</p>\n",
       "</div>"
      ],
      "text/plain": [
       "       MSZoning Street Alley LotShape LandContour Utilities LotConfig  \\\n",
       "count      1460   1460    91     1460        1460      1460      1460   \n",
       "unique        5      2     2        4           4         2         5   \n",
       "top          RL   Pave  Grvl      Reg         Lvl    AllPub    Inside   \n",
       "freq       1151   1454    50      925        1311      1459      1052   \n",
       "\n",
       "       LandSlope Neighborhood Condition1  ... GarageType GarageFinish  \\\n",
       "count       1460         1460       1460  ...       1379         1379   \n",
       "unique         3           25          9  ...          6            3   \n",
       "top          Gtl        NAmes       Norm  ...     Attchd          Unf   \n",
       "freq        1382          225       1260  ...        870          605   \n",
       "\n",
       "       GarageQual GarageCond PavedDrive PoolQC  Fence MiscFeature SaleType  \\\n",
       "count        1379       1379       1460      7    281          54     1460   \n",
       "unique          5          5          3      3      4           4        9   \n",
       "top            TA         TA          Y     Gd  MnPrv        Shed       WD   \n",
       "freq         1311       1326       1340      3    157          49     1267   \n",
       "\n",
       "       SaleCondition  \n",
       "count           1460  \n",
       "unique             6  \n",
       "top           Normal  \n",
       "freq            1198  \n",
       "\n",
       "[4 rows x 43 columns]"
      ]
     },
     "execution_count": 9,
     "metadata": {},
     "output_type": "execute_result"
    }
   ],
   "source": [
    "cat_cols.describe()"
   ]
  },
  {
   "cell_type": "code",
   "execution_count": 10,
   "metadata": {},
   "outputs": [],
   "source": [
    "for i in cat_features:\n",
    "    train[cat_features]=train[cat_features].fillna(train[cat_features].mode().iloc[0])"
   ]
  },
  {
   "cell_type": "code",
   "execution_count": 11,
   "metadata": {},
   "outputs": [],
   "source": [
    "for i in num_features:\n",
    "    train[num_features]=train[num_features].fillna(train[num_features].median().iloc[0])"
   ]
  },
  {
   "cell_type": "code",
   "execution_count": 12,
   "metadata": {},
   "outputs": [],
   "source": [
    "cat_fs = train.select_dtypes(include = object).columns\n",
    "num_fs = test.select_dtypes(exclude = object).columns"
   ]
  },
  {
   "cell_type": "code",
   "execution_count": 13,
   "metadata": {},
   "outputs": [],
   "source": [
    "for i in cat_fs:\n",
    "    test[cat_fs]=test[cat_fs].fillna(test[cat_fs].mode().iloc[0])"
   ]
  },
  {
   "cell_type": "code",
   "execution_count": 14,
   "metadata": {},
   "outputs": [],
   "source": [
    "for i in num_fs:\n",
    "    test[num_fs]=test[num_fs].fillna(test[num_fs].mode().iloc[0])"
   ]
  },
  {
   "cell_type": "code",
   "execution_count": 15,
   "metadata": {},
   "outputs": [
    {
     "data": {
      "text/plain": [
       "[(('MSSubClass', dtype('int64')), 15),\n",
       " (('MSZoning', dtype('O')), 5),\n",
       " (('LotFrontage', dtype('float64')), 110),\n",
       " (('LotArea', dtype('int64')), 1073),\n",
       " (('Street', dtype('O')), 2),\n",
       " (('Alley', dtype('O')), 2),\n",
       " (('LotShape', dtype('O')), 4),\n",
       " (('LandContour', dtype('O')), 4),\n",
       " (('Utilities', dtype('O')), 2),\n",
       " (('LotConfig', dtype('O')), 5),\n",
       " (('LandSlope', dtype('O')), 3),\n",
       " (('Neighborhood', dtype('O')), 25),\n",
       " (('Condition1', dtype('O')), 9),\n",
       " (('Condition2', dtype('O')), 8),\n",
       " (('BldgType', dtype('O')), 5),\n",
       " (('HouseStyle', dtype('O')), 8),\n",
       " (('OverallQual', dtype('int64')), 10),\n",
       " (('OverallCond', dtype('int64')), 9),\n",
       " (('YearBuilt', dtype('int64')), 112),\n",
       " (('YearRemodAdd', dtype('int64')), 61),\n",
       " (('RoofStyle', dtype('O')), 6),\n",
       " (('RoofMatl', dtype('O')), 8),\n",
       " (('Exterior1st', dtype('O')), 15),\n",
       " (('Exterior2nd', dtype('O')), 16),\n",
       " (('MasVnrType', dtype('O')), 4),\n",
       " (('MasVnrArea', dtype('float64')), 327),\n",
       " (('ExterQual', dtype('O')), 4),\n",
       " (('ExterCond', dtype('O')), 5),\n",
       " (('Foundation', dtype('O')), 6),\n",
       " (('BsmtQual', dtype('O')), 4),\n",
       " (('BsmtCond', dtype('O')), 4),\n",
       " (('BsmtExposure', dtype('O')), 4),\n",
       " (('BsmtFinType1', dtype('O')), 6),\n",
       " (('BsmtFinSF1', dtype('int64')), 637),\n",
       " (('BsmtFinType2', dtype('O')), 6),\n",
       " (('BsmtFinSF2', dtype('int64')), 144),\n",
       " (('BsmtUnfSF', dtype('int64')), 780),\n",
       " (('TotalBsmtSF', dtype('int64')), 721),\n",
       " (('Heating', dtype('O')), 6),\n",
       " (('HeatingQC', dtype('O')), 5),\n",
       " (('CentralAir', dtype('O')), 2),\n",
       " (('Electrical', dtype('O')), 5),\n",
       " (('1stFlrSF', dtype('int64')), 753),\n",
       " (('2ndFlrSF', dtype('int64')), 417),\n",
       " (('LowQualFinSF', dtype('int64')), 24),\n",
       " (('GrLivArea', dtype('int64')), 861),\n",
       " (('BsmtFullBath', dtype('int64')), 4),\n",
       " (('BsmtHalfBath', dtype('int64')), 3),\n",
       " (('FullBath', dtype('int64')), 4),\n",
       " (('HalfBath', dtype('int64')), 3),\n",
       " (('BedroomAbvGr', dtype('int64')), 8),\n",
       " (('KitchenAbvGr', dtype('int64')), 4),\n",
       " (('KitchenQual', dtype('O')), 4),\n",
       " (('TotRmsAbvGrd', dtype('int64')), 12),\n",
       " (('Functional', dtype('O')), 7),\n",
       " (('Fireplaces', dtype('int64')), 4),\n",
       " (('FireplaceQu', dtype('O')), 5),\n",
       " (('GarageType', dtype('O')), 6),\n",
       " (('GarageYrBlt', dtype('float64')), 98),\n",
       " (('GarageFinish', dtype('O')), 3),\n",
       " (('GarageCars', dtype('int64')), 5),\n",
       " (('GarageArea', dtype('int64')), 441),\n",
       " (('GarageQual', dtype('O')), 5),\n",
       " (('GarageCond', dtype('O')), 5),\n",
       " (('PavedDrive', dtype('O')), 3),\n",
       " (('WoodDeckSF', dtype('int64')), 274),\n",
       " (('OpenPorchSF', dtype('int64')), 202),\n",
       " (('EnclosedPorch', dtype('int64')), 120),\n",
       " (('3SsnPorch', dtype('int64')), 20),\n",
       " (('ScreenPorch', dtype('int64')), 76),\n",
       " (('PoolArea', dtype('int64')), 8),\n",
       " (('PoolQC', dtype('O')), 3),\n",
       " (('Fence', dtype('O')), 4),\n",
       " (('MiscFeature', dtype('O')), 4),\n",
       " (('MiscVal', dtype('int64')), 21),\n",
       " (('MoSold', dtype('int64')), 12),\n",
       " (('YrSold', dtype('int64')), 5),\n",
       " (('SaleType', dtype('O')), 9),\n",
       " (('SaleCondition', dtype('O')), 6),\n",
       " (('SalePrice', dtype('int64')), 663)]"
      ]
     },
     "execution_count": 15,
     "metadata": {},
     "output_type": "execute_result"
    }
   ],
   "source": [
    "#list(train.columns) + list(train.dtypes) + list(train.apply(pd.Series.nunique))\n",
    "list(zip(list(zip(list(train.columns),list(train.dtypes))),list(train.apply(pd.Series.nunique))))"
   ]
  },
  {
   "cell_type": "code",
   "execution_count": 16,
   "metadata": {},
   "outputs": [],
   "source": [
    "#Convert the below fields from numerical to categorical\n",
    "train['MSSubClass']=train['MSSubClass'].astype(str)\n",
    "train['MoSold']=train['MoSold'].astype(str)\n",
    "train['OverallQual']=train['OverallQual'].astype(str)\n",
    "train['OverallCond']=train['OverallCond'].astype(str)"
   ]
  },
  {
   "cell_type": "code",
   "execution_count": 17,
   "metadata": {},
   "outputs": [],
   "source": [
    "test['MSSubClass']=test['MSSubClass'].astype(str)\n",
    "test['MoSold']=test['MoSold'].astype(str)\n",
    "test['OverallQual']=test['OverallQual'].astype(str)\n",
    "test['OverallCond']=test['OverallCond'].astype(str)"
   ]
  },
  {
   "cell_type": "code",
   "execution_count": 18,
   "metadata": {},
   "outputs": [],
   "source": [
    "houses=pd.concat([train,test], sort=False)\n",
    "len_train=train.shape[0]\n",
    "#houses['LotFrontage']=houses['LotFrontage'].astype(float)"
   ]
  },
  {
   "cell_type": "code",
   "execution_count": 19,
   "metadata": {},
   "outputs": [
    {
     "data": {
      "text/html": [
       "<div>\n",
       "<style scoped>\n",
       "    .dataframe tbody tr th:only-of-type {\n",
       "        vertical-align: middle;\n",
       "    }\n",
       "\n",
       "    .dataframe tbody tr th {\n",
       "        vertical-align: top;\n",
       "    }\n",
       "\n",
       "    .dataframe thead th {\n",
       "        text-align: right;\n",
       "    }\n",
       "</style>\n",
       "<table border=\"1\" class=\"dataframe\">\n",
       "  <thead>\n",
       "    <tr style=\"text-align: right;\">\n",
       "      <th></th>\n",
       "      <th>Skewness</th>\n",
       "    </tr>\n",
       "  </thead>\n",
       "  <tbody>\n",
       "    <tr>\n",
       "      <th>MiscVal</th>\n",
       "      <td>21.947195</td>\n",
       "    </tr>\n",
       "    <tr>\n",
       "      <th>PoolArea</th>\n",
       "      <td>16.898328</td>\n",
       "    </tr>\n",
       "    <tr>\n",
       "      <th>LotArea</th>\n",
       "      <td>12.822431</td>\n",
       "    </tr>\n",
       "    <tr>\n",
       "      <th>LowQualFinSF</th>\n",
       "      <td>12.088761</td>\n",
       "    </tr>\n",
       "    <tr>\n",
       "      <th>3SsnPorch</th>\n",
       "      <td>11.376065</td>\n",
       "    </tr>\n",
       "    <tr>\n",
       "      <th>KitchenAbvGr</th>\n",
       "      <td>4.302254</td>\n",
       "    </tr>\n",
       "    <tr>\n",
       "      <th>BsmtFinSF2</th>\n",
       "      <td>4.146143</td>\n",
       "    </tr>\n",
       "    <tr>\n",
       "      <th>EnclosedPorch</th>\n",
       "      <td>4.003891</td>\n",
       "    </tr>\n",
       "    <tr>\n",
       "      <th>ScreenPorch</th>\n",
       "      <td>3.946694</td>\n",
       "    </tr>\n",
       "    <tr>\n",
       "      <th>BsmtHalfBath</th>\n",
       "      <td>3.931594</td>\n",
       "    </tr>\n",
       "  </tbody>\n",
       "</table>\n",
       "</div>"
      ],
      "text/plain": [
       "                Skewness\n",
       "MiscVal        21.947195\n",
       "PoolArea       16.898328\n",
       "LotArea        12.822431\n",
       "LowQualFinSF   12.088761\n",
       "3SsnPorch      11.376065\n",
       "KitchenAbvGr    4.302254\n",
       "BsmtFinSF2      4.146143\n",
       "EnclosedPorch   4.003891\n",
       "ScreenPorch     3.946694\n",
       "BsmtHalfBath    3.931594"
      ]
     },
     "execution_count": 19,
     "metadata": {},
     "output_type": "execute_result"
    }
   ],
   "source": [
    "numerical = houses.dtypes[houses.dtypes != 'object'].index\n",
    "from scipy.stats import skew \n",
    "skewness=houses[numerical].apply(lambda x: skew(x.dropna())).sort_values(ascending=False)\n",
    "skewness_df = pd.DataFrame({'Skewness': skewness})\n",
    "skewness_df.head(10)"
   ]
  },
  {
   "cell_type": "code",
   "execution_count": 20,
   "metadata": {},
   "outputs": [
    {
     "data": {
      "text/plain": [
       "True     27\n",
       "False     6\n",
       "dtype: int64"
      ]
     },
     "execution_count": 20,
     "metadata": {},
     "output_type": "execute_result"
    }
   ],
   "source": [
    "(abs(skewness) > 0.50).value_counts()"
   ]
  },
  {
   "cell_type": "code",
   "execution_count": 21,
   "metadata": {},
   "outputs": [],
   "source": [
    "from scipy.special import boxcox1p\n",
    "boxcox_features = skewness_df[np.abs(skewness_df['Skewness'])>0.50].index\n",
    "lam = 0.10\n",
    "\n",
    "for col in boxcox_features:\n",
    "    houses.loc[:, col] = boxcox1p(houses[col], lam)"
   ]
  },
  {
   "cell_type": "code",
   "execution_count": 22,
   "metadata": {},
   "outputs": [
    {
     "data": {
      "text/html": [
       "<div>\n",
       "<style scoped>\n",
       "    .dataframe tbody tr th:only-of-type {\n",
       "        vertical-align: middle;\n",
       "    }\n",
       "\n",
       "    .dataframe tbody tr th {\n",
       "        vertical-align: top;\n",
       "    }\n",
       "\n",
       "    .dataframe thead th {\n",
       "        text-align: right;\n",
       "    }\n",
       "</style>\n",
       "<table border=\"1\" class=\"dataframe\">\n",
       "  <thead>\n",
       "    <tr style=\"text-align: right;\">\n",
       "      <th></th>\n",
       "      <th>Skewness</th>\n",
       "    </tr>\n",
       "  </thead>\n",
       "  <tbody>\n",
       "    <tr>\n",
       "      <th>PoolArea</th>\n",
       "      <td>15.071918</td>\n",
       "    </tr>\n",
       "    <tr>\n",
       "      <th>3SsnPorch</th>\n",
       "      <td>8.885563</td>\n",
       "    </tr>\n",
       "    <tr>\n",
       "      <th>LowQualFinSF</th>\n",
       "      <td>8.671340</td>\n",
       "    </tr>\n",
       "    <tr>\n",
       "      <th>MiscVal</th>\n",
       "      <td>5.422529</td>\n",
       "    </tr>\n",
       "    <tr>\n",
       "      <th>BsmtHalfBath</th>\n",
       "      <td>3.783479</td>\n",
       "    </tr>\n",
       "    <tr>\n",
       "      <th>KitchenAbvGr</th>\n",
       "      <td>3.642872</td>\n",
       "    </tr>\n",
       "    <tr>\n",
       "      <th>ScreenPorch</th>\n",
       "      <td>2.965344</td>\n",
       "    </tr>\n",
       "    <tr>\n",
       "      <th>BsmtFinSF2</th>\n",
       "      <td>2.524526</td>\n",
       "    </tr>\n",
       "    <tr>\n",
       "      <th>EnclosedPorch</th>\n",
       "      <td>2.000413</td>\n",
       "    </tr>\n",
       "    <tr>\n",
       "      <th>MasVnrArea</th>\n",
       "      <td>0.588597</td>\n",
       "    </tr>\n",
       "  </tbody>\n",
       "</table>\n",
       "</div>"
      ],
      "text/plain": [
       "                Skewness\n",
       "PoolArea       15.071918\n",
       "3SsnPorch       8.885563\n",
       "LowQualFinSF    8.671340\n",
       "MiscVal         5.422529\n",
       "BsmtHalfBath    3.783479\n",
       "KitchenAbvGr    3.642872\n",
       "ScreenPorch     2.965344\n",
       "BsmtFinSF2      2.524526\n",
       "EnclosedPorch   2.000413\n",
       "MasVnrArea      0.588597"
      ]
     },
     "execution_count": 22,
     "metadata": {},
     "output_type": "execute_result"
    }
   ],
   "source": [
    "skewness2 = houses[numerical].apply(lambda x: skew(x.dropna())).sort_values(ascending=False)\n",
    "\n",
    "skewness_df2 = pd.DataFrame({'Skewness': skewness2})\n",
    "skewness_df2.head(10)"
   ]
  },
  {
   "cell_type": "code",
   "execution_count": 23,
   "metadata": {},
   "outputs": [
    {
     "data": {
      "text/plain": [
       "((2919, 80), (1460, 80), (1459, 79))"
      ]
     },
     "execution_count": 23,
     "metadata": {},
     "output_type": "execute_result"
    }
   ],
   "source": [
    "houses.shape, train.shape, test.shape"
   ]
  },
  {
   "cell_type": "code",
   "execution_count": 24,
   "metadata": {},
   "outputs": [],
   "source": [
    "dummy_houses = pd.get_dummies(houses)"
   ]
  },
  {
   "cell_type": "code",
   "execution_count": 25,
   "metadata": {},
   "outputs": [
    {
     "data": {
      "text/plain": [
       "((1460, 332), (1459, 332))"
      ]
     },
     "execution_count": 25,
     "metadata": {},
     "output_type": "execute_result"
    }
   ],
   "source": [
    "train = dummy_houses[:len_train]\n",
    "test = dummy_houses[len_train:]\n",
    "train.shape, test.shape"
   ]
  },
  {
   "cell_type": "code",
   "execution_count": 26,
   "metadata": {},
   "outputs": [
    {
     "name": "stderr",
     "output_type": "stream",
     "text": [
      "/opt/conda/lib/python3.6/site-packages/pandas/core/frame.py:4097: SettingWithCopyWarning: \n",
      "A value is trying to be set on a copy of a slice from a DataFrame\n",
      "\n",
      "See the caveats in the documentation: http://pandas.pydata.org/pandas-docs/stable/user_guide/indexing.html#returning-a-view-versus-a-copy\n",
      "  errors=errors,\n"
     ]
    },
    {
     "data": {
      "text/plain": [
       "((1460, 332), (1459, 331))"
      ]
     },
     "execution_count": 26,
     "metadata": {},
     "output_type": "execute_result"
    }
   ],
   "source": [
    "test.drop(\"SalePrice\", axis = 1, inplace = True)\n",
    "train.shape, test.shape"
   ]
  },
  {
   "cell_type": "code",
   "execution_count": 27,
   "metadata": {},
   "outputs": [],
   "source": [
    "y_train = train['SalePrice'].values\n",
    "train.drop(\"SalePrice\", axis = 1, inplace = True)"
   ]
  },
  {
   "cell_type": "code",
   "execution_count": 28,
   "metadata": {},
   "outputs": [],
   "source": [
    "from sklearn.preprocessing import StandardScaler, RobustScaler\n",
    "from sklearn.preprocessing import LabelEncoder\n",
    "from sklearn.linear_model import Lasso\n",
    "from sklearn.linear_model import RidgeCV, LassoCV\n",
    "from sklearn.ensemble import RandomForestRegressor\n",
    "from sklearn.model_selection import cross_val_score, train_test_split, KFold\n",
    "kfold = KFold(n_splits=10)"
   ]
  },
  {
   "cell_type": "code",
   "execution_count": 29,
   "metadata": {},
   "outputs": [
    {
     "name": "stderr",
     "output_type": "stream",
     "text": [
      "/opt/conda/lib/python3.6/site-packages/sklearn/model_selection/_split.py:1978: FutureWarning: The default value of cv will change from 3 to 5 in version 0.22. Specify it explicitly to silence this warning.\n",
      "  warnings.warn(CV_WARNING, FutureWarning)\n",
      "/opt/conda/lib/python3.6/site-packages/sklearn/model_selection/_split.py:1978: FutureWarning: The default value of cv will change from 3 to 5 in version 0.22. Specify it explicitly to silence this warning.\n",
      "  warnings.warn(CV_WARNING, FutureWarning)\n",
      "/opt/conda/lib/python3.6/site-packages/sklearn/model_selection/_split.py:1978: FutureWarning: The default value of cv will change from 3 to 5 in version 0.22. Specify it explicitly to silence this warning.\n",
      "  warnings.warn(CV_WARNING, FutureWarning)\n",
      "/opt/conda/lib/python3.6/site-packages/sklearn/model_selection/_split.py:1978: FutureWarning: The default value of cv will change from 3 to 5 in version 0.22. Specify it explicitly to silence this warning.\n",
      "  warnings.warn(CV_WARNING, FutureWarning)\n",
      "/opt/conda/lib/python3.6/site-packages/sklearn/model_selection/_split.py:1978: FutureWarning: The default value of cv will change from 3 to 5 in version 0.22. Specify it explicitly to silence this warning.\n",
      "  warnings.warn(CV_WARNING, FutureWarning)\n",
      "/opt/conda/lib/python3.6/site-packages/sklearn/model_selection/_split.py:1978: FutureWarning: The default value of cv will change from 3 to 5 in version 0.22. Specify it explicitly to silence this warning.\n",
      "  warnings.warn(CV_WARNING, FutureWarning)\n",
      "/opt/conda/lib/python3.6/site-packages/sklearn/model_selection/_split.py:1978: FutureWarning: The default value of cv will change from 3 to 5 in version 0.22. Specify it explicitly to silence this warning.\n",
      "  warnings.warn(CV_WARNING, FutureWarning)\n",
      "/opt/conda/lib/python3.6/site-packages/sklearn/model_selection/_split.py:1978: FutureWarning: The default value of cv will change from 3 to 5 in version 0.22. Specify it explicitly to silence this warning.\n",
      "  warnings.warn(CV_WARNING, FutureWarning)\n",
      "/opt/conda/lib/python3.6/site-packages/sklearn/model_selection/_split.py:1978: FutureWarning: The default value of cv will change from 3 to 5 in version 0.22. Specify it explicitly to silence this warning.\n",
      "  warnings.warn(CV_WARNING, FutureWarning)\n",
      "/opt/conda/lib/python3.6/site-packages/sklearn/model_selection/_split.py:1978: FutureWarning: The default value of cv will change from 3 to 5 in version 0.22. Specify it explicitly to silence this warning.\n",
      "  warnings.warn(CV_WARNING, FutureWarning)\n"
     ]
    },
    {
     "name": "stdout",
     "output_type": "stream",
     "text": [
      "RMSE for Ridge regression is 0.425\n",
      "\n",
      "RMSE for Lasso regression is 0.715\n",
      "\n",
      "RMSE for Random Forest regression with 30 trees is 0.496\n",
      "\n",
      "RMSE for Random Forest regression with 100 trees  is 0.480\n"
     ]
    }
   ],
   "source": [
    "ridge_results = cross_val_score(RidgeCV(), train.values, y_train, cv=kfold, scoring= 'neg_mean_squared_error')\n",
    "lasso_results = cross_val_score(LassoCV(), train.values, y_train, cv=kfold, scoring= 'neg_mean_squared_error')\n",
    "rf_30_results = cross_val_score(RandomForestRegressor(n_estimators=30), train.values, y_train, cv=kfold, scoring= 'neg_mean_squared_error')\n",
    "rf_100_results = cross_val_score(RandomForestRegressor(n_estimators=100), train.values, y_train, cv=kfold, scoring= 'neg_mean_squared_error')\n",
    "\n",
    "print ('RMSE for Ridge regression is %.3f\\n' % np.sqrt(np.abs(ridge_results.mean())))\n",
    "print ('RMSE for Lasso regression is %.3f\\n' % np.sqrt(np.abs(lasso_results.mean())))\n",
    "print ('RMSE for Random Forest regression with 30 trees is %.3f\\n' % np.sqrt(np.abs(rf_30_results.mean())))\n",
    "print ('RMSE for Random Forest regression with 100 trees  is %.3f' % np.sqrt(np.abs(rf_100_results.mean())))"
   ]
  },
  {
   "cell_type": "code",
   "execution_count": 30,
   "metadata": {},
   "outputs": [],
   "source": [
    "sc=RobustScaler()\n",
    "train=sc.fit_transform(train)\n",
    "test=sc.transform(test)"
   ]
  },
  {
   "cell_type": "code",
   "execution_count": 31,
   "metadata": {},
   "outputs": [],
   "source": [
    "model=Lasso(alpha =0.001, random_state=1)"
   ]
  },
  {
   "cell_type": "code",
   "execution_count": 32,
   "metadata": {},
   "outputs": [
    {
     "data": {
      "text/plain": [
       "Lasso(alpha=0.001, copy_X=True, fit_intercept=True, max_iter=1000,\n",
       "      normalize=False, positive=False, precompute=False, random_state=1,\n",
       "      selection='cyclic', tol=0.0001, warm_start=False)"
      ]
     },
     "execution_count": 32,
     "metadata": {},
     "output_type": "execute_result"
    }
   ],
   "source": [
    "model.fit(train,y_train)"
   ]
  },
  {
   "cell_type": "code",
   "execution_count": 33,
   "metadata": {},
   "outputs": [
    {
     "data": {
      "text/plain": [
       "{'MSSubClass': -0.0,\n",
       " 'MSZoning': 0.096779972115293,\n",
       " 'LotFrontage': 0.23867001887091602,\n",
       " 'LotArea': 0.10211017582078971,\n",
       " 'Street': 0.0040237495532064295,\n",
       " 'Alley': 0.15691992849157446,\n",
       " 'LotShape': -0.0013110105297691587,\n",
       " 'LandContour': -0.026517474328026307,\n",
       " 'Utilities': 0.04802141513653897,\n",
       " 'LotConfig': 0.053713469950628354,\n",
       " 'LandSlope': -0.0,\n",
       " 'Neighborhood': -0.015878092297375225,\n",
       " 'Condition1': 0.6357269176120448,\n",
       " 'Condition2': 0.07498801493775537,\n",
       " 'BldgType': 0.0011181404434251357,\n",
       " 'HouseStyle': 0.1043590637140814,\n",
       " 'OverallQual': 0.057553491447848736,\n",
       " 'OverallCond': -0.006859854875031472,\n",
       " 'YearBuilt': -0.32511930352035284,\n",
       " 'YearRemodAdd': 0.005629957083208341,\n",
       " 'RoofStyle': 0.0970339685413775,\n",
       " 'RoofMatl': 0.00024946148390147523,\n",
       " 'Exterior1st': 0.12525551321098466,\n",
       " 'Exterior2nd': 0.03762863361352611,\n",
       " 'MasVnrType': 0.06966501951255614,\n",
       " 'MasVnrArea': 0.02943592632756324,\n",
       " 'ExterQual': 0.008824126336911587,\n",
       " 'ExterCond': 0.0107295770240573,\n",
       " 'Foundation': 0.023046100394447776,\n",
       " 'BsmtQual': 0.03199127460066797,\n",
       " 'BsmtCond': -0.0038616915046202752,\n",
       " 'BsmtExposure': -0.01834925308129233,\n",
       " 'BsmtFinType1': 0.00553817886982529,\n",
       " 'BsmtFinSF1': 0.0,\n",
       " 'BsmtFinType2': -0.09648294838438423,\n",
       " 'BsmtFinSF2': 0.0,\n",
       " 'BsmtUnfSF': -0.0,\n",
       " 'TotalBsmtSF': 0.0480018517215355,\n",
       " 'Heating': -0.09344222664769533,\n",
       " 'HeatingQC': 0.0,\n",
       " 'CentralAir': 0.0,\n",
       " 'Electrical': -0.0,\n",
       " '1stFlrSF': -0.0,\n",
       " '2ndFlrSF': 0.051260252616602095,\n",
       " 'LowQualFinSF': 0.0,\n",
       " 'GrLivArea': -0.0,\n",
       " 'BsmtFullBath': 0.0,\n",
       " 'BsmtHalfBath': -0.01684548768652279,\n",
       " 'FullBath': -1.1393362427944616,\n",
       " 'HalfBath': 0.07174545609492337,\n",
       " 'BedroomAbvGr': 0.0,\n",
       " 'KitchenAbvGr': 0.0,\n",
       " 'KitchenQual': -0.11279176300021967,\n",
       " 'TotRmsAbvGrd': -0.0,\n",
       " 'Functional': 0.0,\n",
       " 'Fireplaces': -0.0740062215429539,\n",
       " 'FireplaceQu': 2.228880683343101e-17,\n",
       " 'GarageType': -0.031861656975600824,\n",
       " 'GarageYrBlt': 0.009144785998191015,\n",
       " 'GarageFinish': -0.0,\n",
       " 'GarageCars': 0.0,\n",
       " 'GarageArea': -0.1007024543343316,\n",
       " 'GarageQual': 0.003996582992624131,\n",
       " 'GarageCond': -0.0,\n",
       " 'PavedDrive': 0.0,\n",
       " 'WoodDeckSF': 0.0,\n",
       " 'OpenPorchSF': -0.0,\n",
       " 'EnclosedPorch': 0.02976959986035252,\n",
       " '3SsnPorch': 0.12579589941321132,\n",
       " 'ScreenPorch': -0.07628135567641701,\n",
       " 'PoolArea': -0.0,\n",
       " 'PoolQC': -0.0,\n",
       " 'Fence': -0.0,\n",
       " 'MiscFeature': 0.016826598913508604,\n",
       " 'MiscVal': -0.11214868555698536,\n",
       " 'MoSold': 0.0,\n",
       " 'YrSold': 0.0,\n",
       " 'SaleType': 0.0,\n",
       " 'SaleCondition': 0.11239332841775863,\n",
       " 'SalePrice': 0.08769657012027003}"
      ]
     },
     "execution_count": 33,
     "metadata": {},
     "output_type": "execute_result"
    }
   ],
   "source": [
    "dict(zip(houses.columns, model.coef_))"
   ]
  },
  {
   "cell_type": "code",
   "execution_count": 34,
   "metadata": {},
   "outputs": [],
   "source": [
    "pred=model.predict(test)\n",
    "preds=np.exp(pred)"
   ]
  },
  {
   "cell_type": "code",
   "execution_count": 35,
   "metadata": {},
   "outputs": [
    {
     "name": "stderr",
     "output_type": "stream",
     "text": [
      "/opt/conda/lib/python3.6/site-packages/tensorflow/python/framework/dtypes.py:516: FutureWarning: Passing (type, 1) or '1type' as a synonym of type is deprecated; in a future version of numpy, it will be understood as (type, (1,)) / '(1,)type'.\n",
      "  _np_qint8 = np.dtype([(\"qint8\", np.int8, 1)])\n",
      "/opt/conda/lib/python3.6/site-packages/tensorflow/python/framework/dtypes.py:517: FutureWarning: Passing (type, 1) or '1type' as a synonym of type is deprecated; in a future version of numpy, it will be understood as (type, (1,)) / '(1,)type'.\n",
      "  _np_quint8 = np.dtype([(\"quint8\", np.uint8, 1)])\n",
      "/opt/conda/lib/python3.6/site-packages/tensorflow/python/framework/dtypes.py:518: FutureWarning: Passing (type, 1) or '1type' as a synonym of type is deprecated; in a future version of numpy, it will be understood as (type, (1,)) / '(1,)type'.\n",
      "  _np_qint16 = np.dtype([(\"qint16\", np.int16, 1)])\n",
      "/opt/conda/lib/python3.6/site-packages/tensorflow/python/framework/dtypes.py:519: FutureWarning: Passing (type, 1) or '1type' as a synonym of type is deprecated; in a future version of numpy, it will be understood as (type, (1,)) / '(1,)type'.\n",
      "  _np_quint16 = np.dtype([(\"quint16\", np.uint16, 1)])\n",
      "/opt/conda/lib/python3.6/site-packages/tensorflow/python/framework/dtypes.py:520: FutureWarning: Passing (type, 1) or '1type' as a synonym of type is deprecated; in a future version of numpy, it will be understood as (type, (1,)) / '(1,)type'.\n",
      "  _np_qint32 = np.dtype([(\"qint32\", np.int32, 1)])\n",
      "/opt/conda/lib/python3.6/site-packages/tensorflow/python/framework/dtypes.py:525: FutureWarning: Passing (type, 1) or '1type' as a synonym of type is deprecated; in a future version of numpy, it will be understood as (type, (1,)) / '(1,)type'.\n",
      "  np_resource = np.dtype([(\"resource\", np.ubyte, 1)])\n",
      "/opt/conda/lib/python3.6/site-packages/tensorboard/compat/tensorflow_stub/dtypes.py:541: FutureWarning: Passing (type, 1) or '1type' as a synonym of type is deprecated; in a future version of numpy, it will be understood as (type, (1,)) / '(1,)type'.\n",
      "  _np_qint8 = np.dtype([(\"qint8\", np.int8, 1)])\n",
      "/opt/conda/lib/python3.6/site-packages/tensorboard/compat/tensorflow_stub/dtypes.py:542: FutureWarning: Passing (type, 1) or '1type' as a synonym of type is deprecated; in a future version of numpy, it will be understood as (type, (1,)) / '(1,)type'.\n",
      "  _np_quint8 = np.dtype([(\"quint8\", np.uint8, 1)])\n",
      "/opt/conda/lib/python3.6/site-packages/tensorboard/compat/tensorflow_stub/dtypes.py:543: FutureWarning: Passing (type, 1) or '1type' as a synonym of type is deprecated; in a future version of numpy, it will be understood as (type, (1,)) / '(1,)type'.\n",
      "  _np_qint16 = np.dtype([(\"qint16\", np.int16, 1)])\n",
      "/opt/conda/lib/python3.6/site-packages/tensorboard/compat/tensorflow_stub/dtypes.py:544: FutureWarning: Passing (type, 1) or '1type' as a synonym of type is deprecated; in a future version of numpy, it will be understood as (type, (1,)) / '(1,)type'.\n",
      "  _np_quint16 = np.dtype([(\"quint16\", np.uint16, 1)])\n",
      "/opt/conda/lib/python3.6/site-packages/tensorboard/compat/tensorflow_stub/dtypes.py:545: FutureWarning: Passing (type, 1) or '1type' as a synonym of type is deprecated; in a future version of numpy, it will be understood as (type, (1,)) / '(1,)type'.\n",
      "  _np_qint32 = np.dtype([(\"qint32\", np.int32, 1)])\n",
      "/opt/conda/lib/python3.6/site-packages/tensorboard/compat/tensorflow_stub/dtypes.py:550: FutureWarning: Passing (type, 1) or '1type' as a synonym of type is deprecated; in a future version of numpy, it will be understood as (type, (1,)) / '(1,)type'.\n",
      "  np_resource = np.dtype([(\"resource\", np.ubyte, 1)])\n"
     ]
    }
   ],
   "source": [
    "output=pd.DataFrame({'Id':test_id, 'SalePrice':preds})\n",
    "output.to_csv('submission.csv', index=False)"
   ]
  }
 ],
 "metadata": {
  "kernelspec": {
   "display_name": "Python 3",
   "language": "python",
   "name": "python3"
  },
  "language_info": {
   "codemirror_mode": {
    "name": "ipython",
    "version": 3
   },
   "file_extension": ".py",
   "mimetype": "text/x-python",
   "name": "python",
   "nbconvert_exporter": "python",
   "pygments_lexer": "ipython3",
   "version": "3.6.6"
  }
 },
 "nbformat": 4,
 "nbformat_minor": 1
}
